{
 "cells": [
  {
   "cell_type": "markdown",
   "metadata": {},
   "source": [
    "# Model Optimization Attempts on different optimizer functions"
   ]
  },
  {
   "cell_type": "code",
   "execution_count": 68,
   "metadata": {},
   "outputs": [],
   "source": [
    "# Import our dependencies\n",
    "from sklearn.model_selection import train_test_split\n",
    "from sklearn.preprocessing import StandardScaler,OneHotEncoder\n",
    "# Import checkpoint dependencies\n",
    "import os\n",
    "from tensorflow.keras.callbacks import ModelCheckpoint\n",
    "import pandas as pd\n",
    "import tensorflow as tf\n",
    "import matplotlib.pyplot as plt\n",
    "import seaborn as sns\n",
    "import numpy as np\n",
    "import preproc_funcs as pf\n",
    "\n",
    "#  Import and read the charity_data.csv.\n",
    "import pandas as pd "
   ]
  },
  {
   "cell_type": "code",
   "execution_count": 69,
   "metadata": {},
   "outputs": [
    {
     "name": "stderr",
     "output_type": "stream",
     "text": [
      "C:\\Users\\jonat\\UO_Bootcamp\\Mod_19\\git_Neural_Network_Charity_Analysis\\Neural_Network_Charity_Analysis\\preproc_funcs.py:87: FutureWarning: In a future version of pandas all arguments of DataFrame.drop except for the argument 'labels' will be keyword-only.\n",
      "  model_data_df = model_data_df.drop(final_cat,1)\n"
     ]
    },
    {
     "data": {
      "text/html": [
       "<div>\n",
       "<style scoped>\n",
       "    .dataframe tbody tr th:only-of-type {\n",
       "        vertical-align: middle;\n",
       "    }\n",
       "\n",
       "    .dataframe tbody tr th {\n",
       "        vertical-align: top;\n",
       "    }\n",
       "\n",
       "    .dataframe thead th {\n",
       "        text-align: right;\n",
       "    }\n",
       "</style>\n",
       "<table border=\"1\" class=\"dataframe\">\n",
       "  <thead>\n",
       "    <tr style=\"text-align: right;\">\n",
       "      <th></th>\n",
       "      <th>STATUS</th>\n",
       "      <th>ASK_AMT</th>\n",
       "      <th>IS_SUCCESSFUL</th>\n",
       "      <th>APPLICATION_TYPE_T10</th>\n",
       "      <th>APPLICATION_TYPE_T12</th>\n",
       "      <th>APPLICATION_TYPE_T13</th>\n",
       "      <th>APPLICATION_TYPE_T14</th>\n",
       "      <th>APPLICATION_TYPE_T15</th>\n",
       "      <th>APPLICATION_TYPE_T17</th>\n",
       "      <th>APPLICATION_TYPE_T19</th>\n",
       "      <th>...</th>\n",
       "      <th>INCOME_AMT_1-9999</th>\n",
       "      <th>INCOME_AMT_10000-24999</th>\n",
       "      <th>INCOME_AMT_100000-499999</th>\n",
       "      <th>INCOME_AMT_10M-50M</th>\n",
       "      <th>INCOME_AMT_1M-5M</th>\n",
       "      <th>INCOME_AMT_25000-99999</th>\n",
       "      <th>INCOME_AMT_50M+</th>\n",
       "      <th>INCOME_AMT_5M-10M</th>\n",
       "      <th>SPECIAL_CONSIDERATIONS_N</th>\n",
       "      <th>SPECIAL_CONSIDERATIONS_Y</th>\n",
       "    </tr>\n",
       "  </thead>\n",
       "  <tbody>\n",
       "    <tr>\n",
       "      <th>0</th>\n",
       "      <td>1</td>\n",
       "      <td>5000</td>\n",
       "      <td>1</td>\n",
       "      <td>1.0</td>\n",
       "      <td>0.0</td>\n",
       "      <td>0.0</td>\n",
       "      <td>0.0</td>\n",
       "      <td>0.0</td>\n",
       "      <td>0.0</td>\n",
       "      <td>0.0</td>\n",
       "      <td>...</td>\n",
       "      <td>0.0</td>\n",
       "      <td>0.0</td>\n",
       "      <td>0.0</td>\n",
       "      <td>0.0</td>\n",
       "      <td>0.0</td>\n",
       "      <td>0.0</td>\n",
       "      <td>0.0</td>\n",
       "      <td>0.0</td>\n",
       "      <td>1.0</td>\n",
       "      <td>0.0</td>\n",
       "    </tr>\n",
       "    <tr>\n",
       "      <th>1</th>\n",
       "      <td>1</td>\n",
       "      <td>108590</td>\n",
       "      <td>1</td>\n",
       "      <td>0.0</td>\n",
       "      <td>0.0</td>\n",
       "      <td>0.0</td>\n",
       "      <td>0.0</td>\n",
       "      <td>0.0</td>\n",
       "      <td>0.0</td>\n",
       "      <td>0.0</td>\n",
       "      <td>...</td>\n",
       "      <td>1.0</td>\n",
       "      <td>0.0</td>\n",
       "      <td>0.0</td>\n",
       "      <td>0.0</td>\n",
       "      <td>0.0</td>\n",
       "      <td>0.0</td>\n",
       "      <td>0.0</td>\n",
       "      <td>0.0</td>\n",
       "      <td>1.0</td>\n",
       "      <td>0.0</td>\n",
       "    </tr>\n",
       "    <tr>\n",
       "      <th>2</th>\n",
       "      <td>1</td>\n",
       "      <td>5000</td>\n",
       "      <td>0</td>\n",
       "      <td>0.0</td>\n",
       "      <td>0.0</td>\n",
       "      <td>0.0</td>\n",
       "      <td>0.0</td>\n",
       "      <td>0.0</td>\n",
       "      <td>0.0</td>\n",
       "      <td>0.0</td>\n",
       "      <td>...</td>\n",
       "      <td>0.0</td>\n",
       "      <td>0.0</td>\n",
       "      <td>0.0</td>\n",
       "      <td>0.0</td>\n",
       "      <td>0.0</td>\n",
       "      <td>0.0</td>\n",
       "      <td>0.0</td>\n",
       "      <td>0.0</td>\n",
       "      <td>1.0</td>\n",
       "      <td>0.0</td>\n",
       "    </tr>\n",
       "    <tr>\n",
       "      <th>3</th>\n",
       "      <td>1</td>\n",
       "      <td>6692</td>\n",
       "      <td>1</td>\n",
       "      <td>0.0</td>\n",
       "      <td>0.0</td>\n",
       "      <td>0.0</td>\n",
       "      <td>0.0</td>\n",
       "      <td>0.0</td>\n",
       "      <td>0.0</td>\n",
       "      <td>0.0</td>\n",
       "      <td>...</td>\n",
       "      <td>0.0</td>\n",
       "      <td>1.0</td>\n",
       "      <td>0.0</td>\n",
       "      <td>0.0</td>\n",
       "      <td>0.0</td>\n",
       "      <td>0.0</td>\n",
       "      <td>0.0</td>\n",
       "      <td>0.0</td>\n",
       "      <td>1.0</td>\n",
       "      <td>0.0</td>\n",
       "    </tr>\n",
       "    <tr>\n",
       "      <th>4</th>\n",
       "      <td>1</td>\n",
       "      <td>142590</td>\n",
       "      <td>1</td>\n",
       "      <td>0.0</td>\n",
       "      <td>0.0</td>\n",
       "      <td>0.0</td>\n",
       "      <td>0.0</td>\n",
       "      <td>0.0</td>\n",
       "      <td>0.0</td>\n",
       "      <td>0.0</td>\n",
       "      <td>...</td>\n",
       "      <td>0.0</td>\n",
       "      <td>0.0</td>\n",
       "      <td>1.0</td>\n",
       "      <td>0.0</td>\n",
       "      <td>0.0</td>\n",
       "      <td>0.0</td>\n",
       "      <td>0.0</td>\n",
       "      <td>0.0</td>\n",
       "      <td>1.0</td>\n",
       "      <td>0.0</td>\n",
       "    </tr>\n",
       "    <tr>\n",
       "      <th>...</th>\n",
       "      <td>...</td>\n",
       "      <td>...</td>\n",
       "      <td>...</td>\n",
       "      <td>...</td>\n",
       "      <td>...</td>\n",
       "      <td>...</td>\n",
       "      <td>...</td>\n",
       "      <td>...</td>\n",
       "      <td>...</td>\n",
       "      <td>...</td>\n",
       "      <td>...</td>\n",
       "      <td>...</td>\n",
       "      <td>...</td>\n",
       "      <td>...</td>\n",
       "      <td>...</td>\n",
       "      <td>...</td>\n",
       "      <td>...</td>\n",
       "      <td>...</td>\n",
       "      <td>...</td>\n",
       "      <td>...</td>\n",
       "      <td>...</td>\n",
       "    </tr>\n",
       "    <tr>\n",
       "      <th>34294</th>\n",
       "      <td>1</td>\n",
       "      <td>5000</td>\n",
       "      <td>0</td>\n",
       "      <td>0.0</td>\n",
       "      <td>0.0</td>\n",
       "      <td>0.0</td>\n",
       "      <td>0.0</td>\n",
       "      <td>0.0</td>\n",
       "      <td>0.0</td>\n",
       "      <td>0.0</td>\n",
       "      <td>...</td>\n",
       "      <td>0.0</td>\n",
       "      <td>0.0</td>\n",
       "      <td>0.0</td>\n",
       "      <td>0.0</td>\n",
       "      <td>0.0</td>\n",
       "      <td>0.0</td>\n",
       "      <td>0.0</td>\n",
       "      <td>0.0</td>\n",
       "      <td>1.0</td>\n",
       "      <td>0.0</td>\n",
       "    </tr>\n",
       "    <tr>\n",
       "      <th>34295</th>\n",
       "      <td>1</td>\n",
       "      <td>5000</td>\n",
       "      <td>0</td>\n",
       "      <td>0.0</td>\n",
       "      <td>0.0</td>\n",
       "      <td>0.0</td>\n",
       "      <td>0.0</td>\n",
       "      <td>0.0</td>\n",
       "      <td>0.0</td>\n",
       "      <td>0.0</td>\n",
       "      <td>...</td>\n",
       "      <td>0.0</td>\n",
       "      <td>0.0</td>\n",
       "      <td>0.0</td>\n",
       "      <td>0.0</td>\n",
       "      <td>0.0</td>\n",
       "      <td>0.0</td>\n",
       "      <td>0.0</td>\n",
       "      <td>0.0</td>\n",
       "      <td>1.0</td>\n",
       "      <td>0.0</td>\n",
       "    </tr>\n",
       "    <tr>\n",
       "      <th>34296</th>\n",
       "      <td>1</td>\n",
       "      <td>5000</td>\n",
       "      <td>0</td>\n",
       "      <td>0.0</td>\n",
       "      <td>0.0</td>\n",
       "      <td>0.0</td>\n",
       "      <td>0.0</td>\n",
       "      <td>0.0</td>\n",
       "      <td>0.0</td>\n",
       "      <td>0.0</td>\n",
       "      <td>...</td>\n",
       "      <td>0.0</td>\n",
       "      <td>0.0</td>\n",
       "      <td>0.0</td>\n",
       "      <td>0.0</td>\n",
       "      <td>0.0</td>\n",
       "      <td>0.0</td>\n",
       "      <td>0.0</td>\n",
       "      <td>0.0</td>\n",
       "      <td>1.0</td>\n",
       "      <td>0.0</td>\n",
       "    </tr>\n",
       "    <tr>\n",
       "      <th>34297</th>\n",
       "      <td>1</td>\n",
       "      <td>5000</td>\n",
       "      <td>1</td>\n",
       "      <td>0.0</td>\n",
       "      <td>0.0</td>\n",
       "      <td>0.0</td>\n",
       "      <td>0.0</td>\n",
       "      <td>0.0</td>\n",
       "      <td>0.0</td>\n",
       "      <td>0.0</td>\n",
       "      <td>...</td>\n",
       "      <td>0.0</td>\n",
       "      <td>0.0</td>\n",
       "      <td>0.0</td>\n",
       "      <td>0.0</td>\n",
       "      <td>0.0</td>\n",
       "      <td>0.0</td>\n",
       "      <td>0.0</td>\n",
       "      <td>0.0</td>\n",
       "      <td>1.0</td>\n",
       "      <td>0.0</td>\n",
       "    </tr>\n",
       "    <tr>\n",
       "      <th>34298</th>\n",
       "      <td>1</td>\n",
       "      <td>36500179</td>\n",
       "      <td>0</td>\n",
       "      <td>0.0</td>\n",
       "      <td>0.0</td>\n",
       "      <td>0.0</td>\n",
       "      <td>0.0</td>\n",
       "      <td>0.0</td>\n",
       "      <td>0.0</td>\n",
       "      <td>0.0</td>\n",
       "      <td>...</td>\n",
       "      <td>0.0</td>\n",
       "      <td>0.0</td>\n",
       "      <td>0.0</td>\n",
       "      <td>0.0</td>\n",
       "      <td>1.0</td>\n",
       "      <td>0.0</td>\n",
       "      <td>0.0</td>\n",
       "      <td>0.0</td>\n",
       "      <td>1.0</td>\n",
       "      <td>0.0</td>\n",
       "    </tr>\n",
       "  </tbody>\n",
       "</table>\n",
       "<p>34299 rows × 117 columns</p>\n",
       "</div>"
      ],
      "text/plain": [
       "       STATUS   ASK_AMT  IS_SUCCESSFUL  APPLICATION_TYPE_T10  \\\n",
       "0           1      5000              1                   1.0   \n",
       "1           1    108590              1                   0.0   \n",
       "2           1      5000              0                   0.0   \n",
       "3           1      6692              1                   0.0   \n",
       "4           1    142590              1                   0.0   \n",
       "...       ...       ...            ...                   ...   \n",
       "34294       1      5000              0                   0.0   \n",
       "34295       1      5000              0                   0.0   \n",
       "34296       1      5000              0                   0.0   \n",
       "34297       1      5000              1                   0.0   \n",
       "34298       1  36500179              0                   0.0   \n",
       "\n",
       "       APPLICATION_TYPE_T12  APPLICATION_TYPE_T13  APPLICATION_TYPE_T14  \\\n",
       "0                       0.0                   0.0                   0.0   \n",
       "1                       0.0                   0.0                   0.0   \n",
       "2                       0.0                   0.0                   0.0   \n",
       "3                       0.0                   0.0                   0.0   \n",
       "4                       0.0                   0.0                   0.0   \n",
       "...                     ...                   ...                   ...   \n",
       "34294                   0.0                   0.0                   0.0   \n",
       "34295                   0.0                   0.0                   0.0   \n",
       "34296                   0.0                   0.0                   0.0   \n",
       "34297                   0.0                   0.0                   0.0   \n",
       "34298                   0.0                   0.0                   0.0   \n",
       "\n",
       "       APPLICATION_TYPE_T15  APPLICATION_TYPE_T17  APPLICATION_TYPE_T19  ...  \\\n",
       "0                       0.0                   0.0                   0.0  ...   \n",
       "1                       0.0                   0.0                   0.0  ...   \n",
       "2                       0.0                   0.0                   0.0  ...   \n",
       "3                       0.0                   0.0                   0.0  ...   \n",
       "4                       0.0                   0.0                   0.0  ...   \n",
       "...                     ...                   ...                   ...  ...   \n",
       "34294                   0.0                   0.0                   0.0  ...   \n",
       "34295                   0.0                   0.0                   0.0  ...   \n",
       "34296                   0.0                   0.0                   0.0  ...   \n",
       "34297                   0.0                   0.0                   0.0  ...   \n",
       "34298                   0.0                   0.0                   0.0  ...   \n",
       "\n",
       "       INCOME_AMT_1-9999  INCOME_AMT_10000-24999  INCOME_AMT_100000-499999  \\\n",
       "0                    0.0                     0.0                       0.0   \n",
       "1                    1.0                     0.0                       0.0   \n",
       "2                    0.0                     0.0                       0.0   \n",
       "3                    0.0                     1.0                       0.0   \n",
       "4                    0.0                     0.0                       1.0   \n",
       "...                  ...                     ...                       ...   \n",
       "34294                0.0                     0.0                       0.0   \n",
       "34295                0.0                     0.0                       0.0   \n",
       "34296                0.0                     0.0                       0.0   \n",
       "34297                0.0                     0.0                       0.0   \n",
       "34298                0.0                     0.0                       0.0   \n",
       "\n",
       "       INCOME_AMT_10M-50M  INCOME_AMT_1M-5M  INCOME_AMT_25000-99999  \\\n",
       "0                     0.0               0.0                     0.0   \n",
       "1                     0.0               0.0                     0.0   \n",
       "2                     0.0               0.0                     0.0   \n",
       "3                     0.0               0.0                     0.0   \n",
       "4                     0.0               0.0                     0.0   \n",
       "...                   ...               ...                     ...   \n",
       "34294                 0.0               0.0                     0.0   \n",
       "34295                 0.0               0.0                     0.0   \n",
       "34296                 0.0               0.0                     0.0   \n",
       "34297                 0.0               0.0                     0.0   \n",
       "34298                 0.0               1.0                     0.0   \n",
       "\n",
       "       INCOME_AMT_50M+  INCOME_AMT_5M-10M  SPECIAL_CONSIDERATIONS_N  \\\n",
       "0                  0.0                0.0                       1.0   \n",
       "1                  0.0                0.0                       1.0   \n",
       "2                  0.0                0.0                       1.0   \n",
       "3                  0.0                0.0                       1.0   \n",
       "4                  0.0                0.0                       1.0   \n",
       "...                ...                ...                       ...   \n",
       "34294              0.0                0.0                       1.0   \n",
       "34295              0.0                0.0                       1.0   \n",
       "34296              0.0                0.0                       1.0   \n",
       "34297              0.0                0.0                       1.0   \n",
       "34298              0.0                0.0                       1.0   \n",
       "\n",
       "       SPECIAL_CONSIDERATIONS_Y  \n",
       "0                           0.0  \n",
       "1                           0.0  \n",
       "2                           0.0  \n",
       "3                           0.0  \n",
       "4                           0.0  \n",
       "...                         ...  \n",
       "34294                       0.0  \n",
       "34295                       0.0  \n",
       "34296                       0.0  \n",
       "34297                       0.0  \n",
       "34298                       0.0  \n",
       "\n",
       "[34299 rows x 117 columns]"
      ]
     },
     "execution_count": 69,
     "metadata": {},
     "output_type": "execute_result"
    }
   ],
   "source": [
    "model_data_df = pf.get_full_data()\n",
    "model_data_df"
   ]
  },
  {
   "cell_type": "code",
   "execution_count": 70,
   "metadata": {
    "scrolled": false
   },
   "outputs": [
    {
     "name": "stderr",
     "output_type": "stream",
     "text": [
      "C:\\Users\\jonat\\AppData\\Local\\Temp\\ipykernel_19540\\1781828065.py:3: FutureWarning: In a future version of pandas all arguments of DataFrame.drop except for the argument 'labels' will be keyword-only.\n",
      "  X = model_data_df.drop([\"IS_SUCCESSFUL\"],1).values\n"
     ]
    }
   ],
   "source": [
    "# Split our preprocessed data into our features and target arrays\n",
    "y = model_data_df.IS_SUCCESSFUL.values\n",
    "X = model_data_df.drop([\"IS_SUCCESSFUL\"],1).values\n",
    "\n",
    "# Split the preprocessed data into a training and testing dataset\n",
    "X_train, X_test, y_train, y_test = train_test_split(X, y, random_state=1)"
   ]
  },
  {
   "cell_type": "code",
   "execution_count": 17,
   "metadata": {},
   "outputs": [],
   "source": [
    "# # Create a StandardScaler instances\n",
    "# scaler = StandardScaler()\n",
    "\n",
    "# # Fit the StandardScaler\n",
    "# X_scaler = scaler.fit(X_train)\n",
    "\n",
    "# # Scale the data\n",
    "# X_train_scaled = X_scaler.transform(X_train)\n",
    "# X_test_scaled = X_scaler.transform(X_test)"
   ]
  },
  {
   "cell_type": "code",
   "execution_count": 76,
   "metadata": {},
   "outputs": [
    {
     "data": {
      "text/plain": [
       "RangeIndex(start=0, stop=116, step=1)"
      ]
     },
     "execution_count": 76,
     "metadata": {},
     "output_type": "execute_result"
    }
   ],
   "source": [
    "X_train_df = pd.DataFrame(X_train)\n",
    "X_df = pd.DataFrame(X)\n",
    "X_train_df.columns"
   ]
  },
  {
   "cell_type": "code",
   "execution_count": 67,
   "metadata": {},
   "outputs": [
    {
     "data": {
      "text/html": [
       "<div>\n",
       "<style scoped>\n",
       "    .dataframe tbody tr th:only-of-type {\n",
       "        vertical-align: middle;\n",
       "    }\n",
       "\n",
       "    .dataframe tbody tr th {\n",
       "        vertical-align: top;\n",
       "    }\n",
       "\n",
       "    .dataframe thead th {\n",
       "        text-align: right;\n",
       "    }\n",
       "</style>\n",
       "<table border=\"1\" class=\"dataframe\">\n",
       "  <thead>\n",
       "    <tr style=\"text-align: right;\">\n",
       "      <th></th>\n",
       "      <th>0</th>\n",
       "      <th>1</th>\n",
       "      <th>2</th>\n",
       "      <th>3</th>\n",
       "      <th>4</th>\n",
       "      <th>5</th>\n",
       "      <th>6</th>\n",
       "      <th>7</th>\n",
       "      <th>8</th>\n",
       "      <th>9</th>\n",
       "      <th>...</th>\n",
       "      <th>106</th>\n",
       "      <th>107</th>\n",
       "      <th>108</th>\n",
       "      <th>109</th>\n",
       "      <th>110</th>\n",
       "      <th>111</th>\n",
       "      <th>112</th>\n",
       "      <th>113</th>\n",
       "      <th>114</th>\n",
       "      <th>115</th>\n",
       "    </tr>\n",
       "  </thead>\n",
       "  <tbody>\n",
       "    <tr>\n",
       "      <th>count</th>\n",
       "      <td>2.572400e+04</td>\n",
       "      <td>2.572400e+04</td>\n",
       "      <td>2.572400e+04</td>\n",
       "      <td>2.572400e+04</td>\n",
       "      <td>2.572400e+04</td>\n",
       "      <td>2.572400e+04</td>\n",
       "      <td>2.572400e+04</td>\n",
       "      <td>2.572400e+04</td>\n",
       "      <td>2.572400e+04</td>\n",
       "      <td>2.572400e+04</td>\n",
       "      <td>...</td>\n",
       "      <td>2.572400e+04</td>\n",
       "      <td>2.572400e+04</td>\n",
       "      <td>2.572400e+04</td>\n",
       "      <td>2.572400e+04</td>\n",
       "      <td>2.572400e+04</td>\n",
       "      <td>2.572400e+04</td>\n",
       "      <td>2.572400e+04</td>\n",
       "      <td>2.572400e+04</td>\n",
       "      <td>2.572400e+04</td>\n",
       "      <td>2.572400e+04</td>\n",
       "    </tr>\n",
       "    <tr>\n",
       "      <th>mean</th>\n",
       "      <td>4.969014e-16</td>\n",
       "      <td>5.342913e-16</td>\n",
       "      <td>-8.005872e-16</td>\n",
       "      <td>1.077465e-15</td>\n",
       "      <td>-2.586735e-15</td>\n",
       "      <td>-1.160333e-15</td>\n",
       "      <td>1.866564e-15</td>\n",
       "      <td>-1.133924e-15</td>\n",
       "      <td>-4.502588e-16</td>\n",
       "      <td>5.028343e-16</td>\n",
       "      <td>...</td>\n",
       "      <td>1.197987e-16</td>\n",
       "      <td>7.761257e-16</td>\n",
       "      <td>-6.941829e-16</td>\n",
       "      <td>1.255308e-15</td>\n",
       "      <td>-1.060761e-15</td>\n",
       "      <td>2.331611e-15</td>\n",
       "      <td>-1.569988e-15</td>\n",
       "      <td>-1.761445e-15</td>\n",
       "      <td>1.838953e-15</td>\n",
       "      <td>-1.502983e-15</td>\n",
       "    </tr>\n",
       "    <tr>\n",
       "      <th>std</th>\n",
       "      <td>1.000019e+00</td>\n",
       "      <td>1.000019e+00</td>\n",
       "      <td>1.000019e+00</td>\n",
       "      <td>1.000019e+00</td>\n",
       "      <td>1.000019e+00</td>\n",
       "      <td>1.000019e+00</td>\n",
       "      <td>1.000019e+00</td>\n",
       "      <td>1.000019e+00</td>\n",
       "      <td>1.000019e+00</td>\n",
       "      <td>1.000019e+00</td>\n",
       "      <td>...</td>\n",
       "      <td>1.000019e+00</td>\n",
       "      <td>1.000019e+00</td>\n",
       "      <td>1.000019e+00</td>\n",
       "      <td>1.000019e+00</td>\n",
       "      <td>1.000019e+00</td>\n",
       "      <td>1.000019e+00</td>\n",
       "      <td>1.000019e+00</td>\n",
       "      <td>1.000019e+00</td>\n",
       "      <td>1.000019e+00</td>\n",
       "      <td>1.000019e+00</td>\n",
       "    </tr>\n",
       "    <tr>\n",
       "      <th>min</th>\n",
       "      <td>-9.259410e+01</td>\n",
       "      <td>-2.957055e-02</td>\n",
       "      <td>-1.235885e-01</td>\n",
       "      <td>-2.991499e-02</td>\n",
       "      <td>-4.543772e-02</td>\n",
       "      <td>-8.817848e-03</td>\n",
       "      <td>-6.235039e-03</td>\n",
       "      <td>-6.235039e-03</td>\n",
       "      <td>-1.784634e-01</td>\n",
       "      <td>-2.068331e-02</td>\n",
       "      <td>...</td>\n",
       "      <td>-1.506687e-01</td>\n",
       "      <td>-1.243965e-01</td>\n",
       "      <td>-3.317906e-01</td>\n",
       "      <td>-8.204493e-02</td>\n",
       "      <td>-1.676198e-01</td>\n",
       "      <td>-3.489988e-01</td>\n",
       "      <td>-6.401969e-02</td>\n",
       "      <td>-7.529085e-02</td>\n",
       "      <td>-3.418000e+01</td>\n",
       "      <td>-2.925687e-02</td>\n",
       "    </tr>\n",
       "    <tr>\n",
       "      <th>25%</th>\n",
       "      <td>1.079982e-02</td>\n",
       "      <td>-2.957055e-02</td>\n",
       "      <td>-1.235885e-01</td>\n",
       "      <td>-2.991499e-02</td>\n",
       "      <td>-4.543772e-02</td>\n",
       "      <td>-8.817848e-03</td>\n",
       "      <td>-6.235039e-03</td>\n",
       "      <td>-6.235039e-03</td>\n",
       "      <td>-1.784634e-01</td>\n",
       "      <td>-2.068331e-02</td>\n",
       "      <td>...</td>\n",
       "      <td>-1.506687e-01</td>\n",
       "      <td>-1.243965e-01</td>\n",
       "      <td>-3.317906e-01</td>\n",
       "      <td>-8.204493e-02</td>\n",
       "      <td>-1.676198e-01</td>\n",
       "      <td>-3.489988e-01</td>\n",
       "      <td>-6.401969e-02</td>\n",
       "      <td>-7.529085e-02</td>\n",
       "      <td>2.925687e-02</td>\n",
       "      <td>-2.925687e-02</td>\n",
       "    </tr>\n",
       "    <tr>\n",
       "      <th>50%</th>\n",
       "      <td>1.079982e-02</td>\n",
       "      <td>-2.957055e-02</td>\n",
       "      <td>-1.235885e-01</td>\n",
       "      <td>-2.991499e-02</td>\n",
       "      <td>-4.543772e-02</td>\n",
       "      <td>-8.817848e-03</td>\n",
       "      <td>-6.235039e-03</td>\n",
       "      <td>-6.235039e-03</td>\n",
       "      <td>-1.784634e-01</td>\n",
       "      <td>-2.068331e-02</td>\n",
       "      <td>...</td>\n",
       "      <td>-1.506687e-01</td>\n",
       "      <td>-1.243965e-01</td>\n",
       "      <td>-3.317906e-01</td>\n",
       "      <td>-8.204493e-02</td>\n",
       "      <td>-1.676198e-01</td>\n",
       "      <td>-3.489988e-01</td>\n",
       "      <td>-6.401969e-02</td>\n",
       "      <td>-7.529085e-02</td>\n",
       "      <td>2.925687e-02</td>\n",
       "      <td>-2.925687e-02</td>\n",
       "    </tr>\n",
       "    <tr>\n",
       "      <th>75%</th>\n",
       "      <td>1.079982e-02</td>\n",
       "      <td>-2.954350e-02</td>\n",
       "      <td>-1.235885e-01</td>\n",
       "      <td>-2.991499e-02</td>\n",
       "      <td>-4.543772e-02</td>\n",
       "      <td>-8.817848e-03</td>\n",
       "      <td>-6.235039e-03</td>\n",
       "      <td>-6.235039e-03</td>\n",
       "      <td>-1.784634e-01</td>\n",
       "      <td>-2.068331e-02</td>\n",
       "      <td>...</td>\n",
       "      <td>-1.506687e-01</td>\n",
       "      <td>-1.243965e-01</td>\n",
       "      <td>-3.317906e-01</td>\n",
       "      <td>-8.204493e-02</td>\n",
       "      <td>-1.676198e-01</td>\n",
       "      <td>-3.489988e-01</td>\n",
       "      <td>-6.401969e-02</td>\n",
       "      <td>-7.529085e-02</td>\n",
       "      <td>2.925687e-02</td>\n",
       "      <td>-2.925687e-02</td>\n",
       "    </tr>\n",
       "    <tr>\n",
       "      <th>max</th>\n",
       "      <td>1.079982e-02</td>\n",
       "      <td>9.418746e+01</td>\n",
       "      <td>8.091371e+00</td>\n",
       "      <td>3.342805e+01</td>\n",
       "      <td>2.200815e+01</td>\n",
       "      <td>1.134063e+02</td>\n",
       "      <td>1.603839e+02</td>\n",
       "      <td>1.603839e+02</td>\n",
       "      <td>5.603390e+00</td>\n",
       "      <td>4.834817e+01</td>\n",
       "      <td>...</td>\n",
       "      <td>6.637077e+00</td>\n",
       "      <td>8.038809e+00</td>\n",
       "      <td>3.013949e+00</td>\n",
       "      <td>1.218844e+01</td>\n",
       "      <td>5.965882e+00</td>\n",
       "      <td>2.865339e+00</td>\n",
       "      <td>1.562019e+01</td>\n",
       "      <td>1.328183e+01</td>\n",
       "      <td>2.925687e-02</td>\n",
       "      <td>3.418000e+01</td>\n",
       "    </tr>\n",
       "  </tbody>\n",
       "</table>\n",
       "<p>8 rows × 116 columns</p>\n",
       "</div>"
      ],
      "text/plain": [
       "                0             1             2             3             4    \\\n",
       "count  2.572400e+04  2.572400e+04  2.572400e+04  2.572400e+04  2.572400e+04   \n",
       "mean   4.969014e-16  5.342913e-16 -8.005872e-16  1.077465e-15 -2.586735e-15   \n",
       "std    1.000019e+00  1.000019e+00  1.000019e+00  1.000019e+00  1.000019e+00   \n",
       "min   -9.259410e+01 -2.957055e-02 -1.235885e-01 -2.991499e-02 -4.543772e-02   \n",
       "25%    1.079982e-02 -2.957055e-02 -1.235885e-01 -2.991499e-02 -4.543772e-02   \n",
       "50%    1.079982e-02 -2.957055e-02 -1.235885e-01 -2.991499e-02 -4.543772e-02   \n",
       "75%    1.079982e-02 -2.954350e-02 -1.235885e-01 -2.991499e-02 -4.543772e-02   \n",
       "max    1.079982e-02  9.418746e+01  8.091371e+00  3.342805e+01  2.200815e+01   \n",
       "\n",
       "                5             6             7             8             9    \\\n",
       "count  2.572400e+04  2.572400e+04  2.572400e+04  2.572400e+04  2.572400e+04   \n",
       "mean  -1.160333e-15  1.866564e-15 -1.133924e-15 -4.502588e-16  5.028343e-16   \n",
       "std    1.000019e+00  1.000019e+00  1.000019e+00  1.000019e+00  1.000019e+00   \n",
       "min   -8.817848e-03 -6.235039e-03 -6.235039e-03 -1.784634e-01 -2.068331e-02   \n",
       "25%   -8.817848e-03 -6.235039e-03 -6.235039e-03 -1.784634e-01 -2.068331e-02   \n",
       "50%   -8.817848e-03 -6.235039e-03 -6.235039e-03 -1.784634e-01 -2.068331e-02   \n",
       "75%   -8.817848e-03 -6.235039e-03 -6.235039e-03 -1.784634e-01 -2.068331e-02   \n",
       "max    1.134063e+02  1.603839e+02  1.603839e+02  5.603390e+00  4.834817e+01   \n",
       "\n",
       "       ...           106           107           108           109  \\\n",
       "count  ...  2.572400e+04  2.572400e+04  2.572400e+04  2.572400e+04   \n",
       "mean   ...  1.197987e-16  7.761257e-16 -6.941829e-16  1.255308e-15   \n",
       "std    ...  1.000019e+00  1.000019e+00  1.000019e+00  1.000019e+00   \n",
       "min    ... -1.506687e-01 -1.243965e-01 -3.317906e-01 -8.204493e-02   \n",
       "25%    ... -1.506687e-01 -1.243965e-01 -3.317906e-01 -8.204493e-02   \n",
       "50%    ... -1.506687e-01 -1.243965e-01 -3.317906e-01 -8.204493e-02   \n",
       "75%    ... -1.506687e-01 -1.243965e-01 -3.317906e-01 -8.204493e-02   \n",
       "max    ...  6.637077e+00  8.038809e+00  3.013949e+00  1.218844e+01   \n",
       "\n",
       "                110           111           112           113           114  \\\n",
       "count  2.572400e+04  2.572400e+04  2.572400e+04  2.572400e+04  2.572400e+04   \n",
       "mean  -1.060761e-15  2.331611e-15 -1.569988e-15 -1.761445e-15  1.838953e-15   \n",
       "std    1.000019e+00  1.000019e+00  1.000019e+00  1.000019e+00  1.000019e+00   \n",
       "min   -1.676198e-01 -3.489988e-01 -6.401969e-02 -7.529085e-02 -3.418000e+01   \n",
       "25%   -1.676198e-01 -3.489988e-01 -6.401969e-02 -7.529085e-02  2.925687e-02   \n",
       "50%   -1.676198e-01 -3.489988e-01 -6.401969e-02 -7.529085e-02  2.925687e-02   \n",
       "75%   -1.676198e-01 -3.489988e-01 -6.401969e-02 -7.529085e-02  2.925687e-02   \n",
       "max    5.965882e+00  2.865339e+00  1.562019e+01  1.328183e+01  2.925687e-02   \n",
       "\n",
       "                115  \n",
       "count  2.572400e+04  \n",
       "mean  -1.502983e-15  \n",
       "std    1.000019e+00  \n",
       "min   -2.925687e-02  \n",
       "25%   -2.925687e-02  \n",
       "50%   -2.925687e-02  \n",
       "75%   -2.925687e-02  \n",
       "max    3.418000e+01  \n",
       "\n",
       "[8 rows x 116 columns]"
      ]
     },
     "execution_count": 67,
     "metadata": {},
     "output_type": "execute_result"
    }
   ],
   "source": [
    "X_train_scaled_df = pd.DataFrame(X_train_scaled)\n",
    "X_train_scaled_df.describe()"
   ]
  },
  {
   "cell_type": "markdown",
   "metadata": {},
   "source": [
    "### Compile, Train and Evaluate the Model"
   ]
  },
  {
   "cell_type": "markdown",
   "metadata": {},
   "source": [
    "## Attempt 1: Adamax"
   ]
  },
  {
   "cell_type": "code",
   "execution_count": 19,
   "metadata": {},
   "outputs": [
    {
     "name": "stdout",
     "output_type": "stream",
     "text": [
      "Model: \"sequential_5\"\n",
      "_________________________________________________________________\n",
      " Layer (type)                Output Shape              Param #   \n",
      "=================================================================\n",
      " dense_25 (Dense)            (None, 348)               40716     \n",
      "                                                                 \n",
      " dense_26 (Dense)            (None, 232)               80968     \n",
      "                                                                 \n",
      " dense_27 (Dense)            (None, 116)               27028     \n",
      "                                                                 \n",
      " dense_28 (Dense)            (None, 58)                6786      \n",
      "                                                                 \n",
      " dense_29 (Dense)            (None, 1)                 59        \n",
      "                                                                 \n",
      "=================================================================\n",
      "Total params: 155,557\n",
      "Trainable params: 155,557\n",
      "Non-trainable params: 0\n",
      "_________________________________________________________________\n"
     ]
    }
   ],
   "source": [
    "# Define the model - deep neural net, i.e., the number of input features and hidden nodes for each layer.\n",
    "number_input_features = len(X_train[0])\n",
    "hidden_nodes_layer1 = 3*number_input_features\n",
    "hidden_nodes_layer2 = 2*number_input_features\n",
    "hidden_nodes_layer3 = number_input_features\n",
    "hidden_nodes_layer4 = 0.5*number_input_features\n",
    "\n",
    "nn_new_v5 = tf.keras.models.Sequential()\n",
    "\n",
    "# First hidden layer\n",
    "nn_new_v5.add(\n",
    "    tf.keras.layers.Dense(\n",
    "        units=hidden_nodes_layer1, \n",
    "        input_dim=number_input_features, \n",
    "        activation=\"relu\"\n",
    "    )\n",
    ")\n",
    "# Second hidden layer\n",
    "nn_new_v5.add(tf.keras.layers.Dense(\n",
    "    units=hidden_nodes_layer2, \n",
    "    activation=\"relu\"\n",
    "))\n",
    "\n",
    "# Third hidden layer\n",
    "nn_new_v5.add(tf.keras.layers.Dense(\n",
    "    units=hidden_nodes_layer3, \n",
    "    activation=\"relu\"\n",
    "))\n",
    "\n",
    "# Fourth hidden layer\n",
    "nn_new_v5.add(tf.keras.layers.Dense(\n",
    "    units=hidden_nodes_layer4, \n",
    "    activation=\"relu\"\n",
    "))\n",
    "\n",
    "# Output layer\n",
    "nn_new_v5.add(tf.keras.layers.Dense(units=1, activation=\"sigmoid\"))\n",
    "\n",
    "# Check the structure of the model\n",
    "nn_new_v5.summary()"
   ]
  },
  {
   "cell_type": "code",
   "execution_count": 20,
   "metadata": {},
   "outputs": [],
   "source": [
    "# Compile the model\n",
    "nn_new_v5.compile(loss=\"binary_crossentropy\", optimizer=\"adamax\", metrics=[\"accuracy\"])"
   ]
  },
  {
   "cell_type": "code",
   "execution_count": 21,
   "metadata": {},
   "outputs": [],
   "source": [
    "# Define the checkpoint path and filenames\n",
    "os.makedirs(\"checkpoints_new_v5/\",exist_ok=True)\n",
    "checkpoint_path = \"checkpoints_new_v5/weights.{epoch:02d}.hdf5\""
   ]
  },
  {
   "cell_type": "code",
   "execution_count": 22,
   "metadata": {},
   "outputs": [
    {
     "name": "stdout",
     "output_type": "stream",
     "text": [
      "WARNING:tensorflow:`period` argument is deprecated. Please use `save_freq` to specify the frequency in number of batches seen.\n",
      "Epoch 1/50\n",
      "804/804 [==============================] - 4s 4ms/step - loss: 0.5655 - accuracy: 0.7225\n",
      "Epoch 2/50\n",
      "804/804 [==============================] - 3s 4ms/step - loss: 0.5487 - accuracy: 0.7307\n",
      "Epoch 3/50\n",
      "804/804 [==============================] - 3s 4ms/step - loss: 0.5469 - accuracy: 0.7327\n",
      "Epoch 4/50\n",
      "804/804 [==============================] - 3s 4ms/step - loss: 0.5455 - accuracy: 0.7329\n",
      "Epoch 5/50\n",
      "804/804 [==============================] - ETA: 0s - loss: 0.5442 - accuracy: 0.7344\n",
      "Epoch 5: saving model to checkpoints_new_v5\\weights.05.hdf5\n",
      "804/804 [==============================] - 3s 4ms/step - loss: 0.5442 - accuracy: 0.7344\n",
      "Epoch 6/50\n",
      "804/804 [==============================] - 3s 4ms/step - loss: 0.5424 - accuracy: 0.7341\n",
      "Epoch 7/50\n",
      "804/804 [==============================] - 3s 4ms/step - loss: 0.5425 - accuracy: 0.7359\n",
      "Epoch 8/50\n",
      "804/804 [==============================] - 3s 3ms/step - loss: 0.5413 - accuracy: 0.7364\n",
      "Epoch 9/50\n",
      "804/804 [==============================] - 3s 4ms/step - loss: 0.5401 - accuracy: 0.7357\n",
      "Epoch 10/50\n",
      "804/804 [==============================] - ETA: 0s - loss: 0.5402 - accuracy: 0.7365\n",
      "Epoch 10: saving model to checkpoints_new_v5\\weights.10.hdf5\n",
      "804/804 [==============================] - 3s 4ms/step - loss: 0.5402 - accuracy: 0.7365\n",
      "Epoch 11/50\n",
      "804/804 [==============================] - 3s 4ms/step - loss: 0.5394 - accuracy: 0.7377\n",
      "Epoch 12/50\n",
      "804/804 [==============================] - 3s 4ms/step - loss: 0.5387 - accuracy: 0.7368\n",
      "Epoch 13/50\n",
      "804/804 [==============================] - 3s 4ms/step - loss: 0.5383 - accuracy: 0.7371\n",
      "Epoch 14/50\n",
      "804/804 [==============================] - 3s 4ms/step - loss: 0.5378 - accuracy: 0.7385\n",
      "Epoch 15/50\n",
      "790/804 [============================>.] - ETA: 0s - loss: 0.5373 - accuracy: 0.7367\n",
      "Epoch 15: saving model to checkpoints_new_v5\\weights.15.hdf5\n",
      "804/804 [==============================] - 3s 4ms/step - loss: 0.5367 - accuracy: 0.7373\n",
      "Epoch 16/50\n",
      "804/804 [==============================] - 3s 4ms/step - loss: 0.5367 - accuracy: 0.7390\n",
      "Epoch 17/50\n",
      "804/804 [==============================] - 3s 4ms/step - loss: 0.5362 - accuracy: 0.7395\n",
      "Epoch 18/50\n",
      "804/804 [==============================] - 3s 4ms/step - loss: 0.5358 - accuracy: 0.7393\n",
      "Epoch 19/50\n",
      "804/804 [==============================] - 3s 4ms/step - loss: 0.5356 - accuracy: 0.7395\n",
      "Epoch 20/50\n",
      "800/804 [============================>.] - ETA: 0s - loss: 0.5348 - accuracy: 0.7397\n",
      "Epoch 20: saving model to checkpoints_new_v5\\weights.20.hdf5\n",
      "804/804 [==============================] - 3s 4ms/step - loss: 0.5348 - accuracy: 0.7398\n",
      "Epoch 21/50\n",
      "804/804 [==============================] - 3s 4ms/step - loss: 0.5347 - accuracy: 0.7397\n",
      "Epoch 22/50\n",
      "804/804 [==============================] - 3s 4ms/step - loss: 0.5339 - accuracy: 0.7406\n",
      "Epoch 23/50\n",
      "804/804 [==============================] - 3s 4ms/step - loss: 0.5337 - accuracy: 0.7392\n",
      "Epoch 24/50\n",
      "804/804 [==============================] - 3s 4ms/step - loss: 0.5333 - accuracy: 0.7406\n",
      "Epoch 25/50\n",
      "796/804 [============================>.] - ETA: 0s - loss: 0.5339 - accuracy: 0.7396\n",
      "Epoch 25: saving model to checkpoints_new_v5\\weights.25.hdf5\n",
      "804/804 [==============================] - 3s 4ms/step - loss: 0.5333 - accuracy: 0.7400\n",
      "Epoch 26/50\n",
      "804/804 [==============================] - 3s 4ms/step - loss: 0.5326 - accuracy: 0.7407\n",
      "Epoch 27/50\n",
      "804/804 [==============================] - 3s 4ms/step - loss: 0.5323 - accuracy: 0.7408\n",
      "Epoch 28/50\n",
      "804/804 [==============================] - 3s 4ms/step - loss: 0.5320 - accuracy: 0.7405\n",
      "Epoch 29/50\n",
      "804/804 [==============================] - 3s 4ms/step - loss: 0.5320 - accuracy: 0.7413\n",
      "Epoch 30/50\n",
      "804/804 [==============================] - ETA: 0s - loss: 0.5319 - accuracy: 0.7415\n",
      "Epoch 30: saving model to checkpoints_new_v5\\weights.30.hdf5\n",
      "804/804 [==============================] - 3s 4ms/step - loss: 0.5319 - accuracy: 0.7415\n",
      "Epoch 31/50\n",
      "804/804 [==============================] - 4s 4ms/step - loss: 0.5314 - accuracy: 0.7420\n",
      "Epoch 32/50\n",
      "804/804 [==============================] - 4s 5ms/step - loss: 0.5311 - accuracy: 0.7408\n",
      "Epoch 33/50\n",
      "804/804 [==============================] - 3s 4ms/step - loss: 0.5310 - accuracy: 0.7418\n",
      "Epoch 34/50\n",
      "804/804 [==============================] - 4s 5ms/step - loss: 0.5305 - accuracy: 0.7422\n",
      "Epoch 35/50\n",
      "796/804 [============================>.] - ETA: 0s - loss: 0.5309 - accuracy: 0.7419\n",
      "Epoch 35: saving model to checkpoints_new_v5\\weights.35.hdf5\n",
      "804/804 [==============================] - 9s 11ms/step - loss: 0.5307 - accuracy: 0.7421\n",
      "Epoch 36/50\n",
      "804/804 [==============================] - 3s 4ms/step - loss: 0.5301 - accuracy: 0.7413\n",
      "Epoch 37/50\n",
      "804/804 [==============================] - 4s 5ms/step - loss: 0.5300 - accuracy: 0.7432\n",
      "Epoch 38/50\n",
      "804/804 [==============================] - 3s 4ms/step - loss: 0.5303 - accuracy: 0.7419\n",
      "Epoch 39/50\n",
      "804/804 [==============================] - 4s 4ms/step - loss: 0.5296 - accuracy: 0.7421\n",
      "Epoch 40/50\n",
      "803/804 [============================>.] - ETA: 0s - loss: 0.5298 - accuracy: 0.7427\n",
      "Epoch 40: saving model to checkpoints_new_v5\\weights.40.hdf5\n",
      "804/804 [==============================] - 4s 5ms/step - loss: 0.5298 - accuracy: 0.7428\n",
      "Epoch 41/50\n",
      "804/804 [==============================] - 3s 4ms/step - loss: 0.5294 - accuracy: 0.7419\n",
      "Epoch 42/50\n",
      "804/804 [==============================] - 3s 4ms/step - loss: 0.5291 - accuracy: 0.7430\n",
      "Epoch 43/50\n",
      "804/804 [==============================] - 3s 4ms/step - loss: 0.5294 - accuracy: 0.7425\n",
      "Epoch 44/50\n",
      "804/804 [==============================] - 3s 4ms/step - loss: 0.5286 - accuracy: 0.7425\n",
      "Epoch 45/50\n",
      "798/804 [============================>.] - ETA: 0s - loss: 0.5291 - accuracy: 0.7425\n",
      "Epoch 45: saving model to checkpoints_new_v5\\weights.45.hdf5\n",
      "804/804 [==============================] - 4s 4ms/step - loss: 0.5289 - accuracy: 0.7426\n",
      "Epoch 46/50\n",
      "804/804 [==============================] - 3s 4ms/step - loss: 0.5288 - accuracy: 0.7422\n",
      "Epoch 47/50\n",
      "804/804 [==============================] - 3s 4ms/step - loss: 0.5282 - accuracy: 0.7428\n",
      "Epoch 48/50\n",
      "804/804 [==============================] - 3s 4ms/step - loss: 0.5280 - accuracy: 0.7428\n",
      "Epoch 49/50\n",
      "804/804 [==============================] - 3s 4ms/step - loss: 0.5280 - accuracy: 0.7427\n",
      "Epoch 50/50\n",
      "802/804 [============================>.] - ETA: 0s - loss: 0.5277 - accuracy: 0.7435\n",
      "Epoch 50: saving model to checkpoints_new_v5\\weights.50.hdf5\n",
      "804/804 [==============================] - 3s 4ms/step - loss: 0.5279 - accuracy: 0.7434\n"
     ]
    }
   ],
   "source": [
    "# Create a callback that saves the model's weights every epoch\n",
    "cp_callback = ModelCheckpoint(\n",
    "    filepath=checkpoint_path,\n",
    "    verbose=1,\n",
    "    save_weights_only=True,\n",
    "    period=5)\n",
    "\n",
    "# Train the model\n",
    "fit_model = nn_new_v5.fit(X_train_scaled,y_train,epochs=50,callbacks=[cp_callback])"
   ]
  },
  {
   "cell_type": "code",
   "execution_count": 23,
   "metadata": {},
   "outputs": [
    {
     "name": "stdout",
     "output_type": "stream",
     "text": [
      "268/268 - 1s - loss: 0.5633 - accuracy: 0.7290 - 905ms/epoch - 3ms/step\n",
      "Loss: 0.5633090734481812, Accuracy: 0.7289795875549316\n"
     ]
    }
   ],
   "source": [
    "# Evaluate the model using the test data\n",
    "model_loss, model_accuracy = nn_new_v5.evaluate(X_test_scaled,y_test,verbose=2)\n",
    "print(f\"Loss: {model_loss}, Accuracy: {model_accuracy}\")"
   ]
  },
  {
   "cell_type": "code",
   "execution_count": 24,
   "metadata": {},
   "outputs": [],
   "source": [
    "# Export the model to HDF5 file\n",
    "nn_new_v5.save(\"trained_application_new_v5.h5\")"
   ]
  },
  {
   "cell_type": "code",
   "execution_count": 25,
   "metadata": {},
   "outputs": [
    {
     "data": {
      "text/plain": [
       "<AxesSubplot:>"
      ]
     },
     "execution_count": 25,
     "metadata": {},
     "output_type": "execute_result"
    },
    {
     "data": {
      "image/png": "[encoded data removed]",
      "text/plain": [
       "<Figure size 432x288 with 1 Axes>"
      ]
     },
     "metadata": {
      "needs_background": "light"
     },
     "output_type": "display_data"
    }
   ],
   "source": [
    "# Create a DataFrame containing training history\n",
    "history_df = pd.DataFrame(fit_model.history, index=range(1,len(fit_model.history[\"loss\"])+1))\n",
    "\n",
    "# Plot the loss\n",
    "history_df.plot(y=\"loss\")"
   ]
  },
  {
   "cell_type": "code",
   "execution_count": 26,
   "metadata": {
    "scrolled": false
   },
   "outputs": [
    {
     "data": {
      "text/plain": [
       "<AxesSubplot:>"
      ]
     },
     "execution_count": 26,
     "metadata": {},
     "output_type": "execute_result"
    },
    {
     "data": {
      "image/png": "[encoded data removed]",
      "text/plain": [
       "<Figure size 432x288 with 1 Axes>"
      ]
     },
     "metadata": {
      "needs_background": "light"
     },
     "output_type": "display_data"
    }
   ],
   "source": [
    "# Plot the accuracy\n",
    "history_df.plot(y=\"accuracy\")"
   ]
  },
  {
   "cell_type": "markdown",
   "metadata": {},
   "source": [
    "## Attempt 2: Nadam"
   ]
  },
  {
   "cell_type": "code",
   "execution_count": 27,
   "metadata": {},
   "outputs": [
    {
     "name": "stdout",
     "output_type": "stream",
     "text": [
      "Model: \"sequential_6\"\n",
      "_________________________________________________________________\n",
      " Layer (type)                Output Shape              Param #   \n",
      "=================================================================\n",
      " dense_30 (Dense)            (None, 348)               40716     \n",
      "                                                                 \n",
      " dense_31 (Dense)            (None, 232)               80968     \n",
      "                                                                 \n",
      " dense_32 (Dense)            (None, 116)               27028     \n",
      "                                                                 \n",
      " dense_33 (Dense)            (None, 58)                6786      \n",
      "                                                                 \n",
      " dense_34 (Dense)            (None, 1)                 59        \n",
      "                                                                 \n",
      "=================================================================\n",
      "Total params: 155,557\n",
      "Trainable params: 155,557\n",
      "Non-trainable params: 0\n",
      "_________________________________________________________________\n"
     ]
    }
   ],
   "source": [
    "# Define the model - deep neural net, i.e., the number of input features and hidden nodes for each layer.\n",
    "number_input_features = len(X_train[0])\n",
    "hidden_nodes_layer1 = 3*number_input_features\n",
    "hidden_nodes_layer2 = 2*number_input_features\n",
    "hidden_nodes_layer3 = number_input_features\n",
    "hidden_nodes_layer4 = 0.5*number_input_features\n",
    "\n",
    "nn_new_v5 = tf.keras.models.Sequential()\n",
    "\n",
    "# First hidden layer\n",
    "nn_new_v5.add(\n",
    "    tf.keras.layers.Dense(\n",
    "        units=hidden_nodes_layer1, \n",
    "        input_dim=number_input_features, \n",
    "        activation=\"relu\"\n",
    "    )\n",
    ")\n",
    "# Second hidden layer\n",
    "nn_new_v5.add(tf.keras.layers.Dense(\n",
    "    units=hidden_nodes_layer2, \n",
    "    activation=\"relu\"\n",
    "))\n",
    "\n",
    "# Third hidden layer\n",
    "nn_new_v5.add(tf.keras.layers.Dense(\n",
    "    units=hidden_nodes_layer3, \n",
    "    activation=\"relu\"\n",
    "))\n",
    "\n",
    "# Fourth hidden layer\n",
    "nn_new_v5.add(tf.keras.layers.Dense(\n",
    "    units=hidden_nodes_layer4, \n",
    "    activation=\"relu\"\n",
    "))\n",
    "\n",
    "# Output layer\n",
    "nn_new_v5.add(tf.keras.layers.Dense(units=1, activation=\"sigmoid\"))\n",
    "\n",
    "# Check the structure of the model\n",
    "nn_new_v5.summary()"
   ]
  },
  {
   "cell_type": "code",
   "execution_count": 28,
   "metadata": {},
   "outputs": [],
   "source": [
    "# Compile the model\n",
    "nn_new_v5.compile(loss=\"binary_crossentropy\", optimizer=\"Nadam\", metrics=[\"accuracy\"])"
   ]
  },
  {
   "cell_type": "code",
   "execution_count": 29,
   "metadata": {},
   "outputs": [],
   "source": [
    "# Define the checkpoint path and filenames\n",
    "os.makedirs(\"checkpoints_new_v5/\",exist_ok=True)\n",
    "checkpoint_path = \"checkpoints_new_v5/weights.{epoch:02d}.hdf5\""
   ]
  },
  {
   "cell_type": "code",
   "execution_count": 30,
   "metadata": {},
   "outputs": [
    {
     "name": "stdout",
     "output_type": "stream",
     "text": [
      "WARNING:tensorflow:`period` argument is deprecated. Please use `save_freq` to specify the frequency in number of batches seen.\n",
      "Epoch 1/50\n",
      "804/804 [==============================] - 5s 5ms/step - loss: 0.5677 - accuracy: 0.7212\n",
      "Epoch 2/50\n",
      "804/804 [==============================] - 4s 5ms/step - loss: 0.5529 - accuracy: 0.7290\n",
      "Epoch 3/50\n",
      "804/804 [==============================] - 4s 5ms/step - loss: 0.5493 - accuracy: 0.7313\n",
      "Epoch 4/50\n",
      "804/804 [==============================] - 4s 5ms/step - loss: 0.5478 - accuracy: 0.7329\n",
      "Epoch 5/50\n",
      "796/804 [============================>.] - ETA: 0s - loss: 0.5476 - accuracy: 0.7327\n",
      "Epoch 5: saving model to checkpoints_new_v5\\weights.05.hdf5\n",
      "804/804 [==============================] - 4s 5ms/step - loss: 0.5471 - accuracy: 0.7331\n",
      "Epoch 6/50\n",
      "804/804 [==============================] - 4s 5ms/step - loss: 0.5452 - accuracy: 0.7341\n",
      "Epoch 7/50\n",
      "804/804 [==============================] - 4s 5ms/step - loss: 0.5438 - accuracy: 0.7361\n",
      "Epoch 8/50\n",
      "804/804 [==============================] - 4s 5ms/step - loss: 0.5431 - accuracy: 0.7356\n",
      "Epoch 9/50\n",
      "804/804 [==============================] - 4s 5ms/step - loss: 0.5432 - accuracy: 0.7355\n",
      "Epoch 10/50\n",
      "802/804 [============================>.] - ETA: 0s - loss: 0.5426 - accuracy: 0.7364\n",
      "Epoch 10: saving model to checkpoints_new_v5\\weights.10.hdf5\n",
      "804/804 [==============================] - 4s 5ms/step - loss: 0.5425 - accuracy: 0.7364\n",
      "Epoch 11/50\n",
      "804/804 [==============================] - 4s 5ms/step - loss: 0.5413 - accuracy: 0.7366\n",
      "Epoch 12/50\n",
      "804/804 [==============================] - 4s 5ms/step - loss: 0.5403 - accuracy: 0.7365\n",
      "Epoch 13/50\n",
      "804/804 [==============================] - 4s 5ms/step - loss: 0.5402 - accuracy: 0.7382\n",
      "Epoch 14/50\n",
      "804/804 [==============================] - 4s 5ms/step - loss: 0.5388 - accuracy: 0.7389\n",
      "Epoch 15/50\n",
      "802/804 [============================>.] - ETA: 0s - loss: 0.5397 - accuracy: 0.7375\n",
      "Epoch 15: saving model to checkpoints_new_v5\\weights.15.hdf5\n",
      "804/804 [==============================] - 4s 5ms/step - loss: 0.5397 - accuracy: 0.7375\n",
      "Epoch 16/50\n",
      "804/804 [==============================] - 4s 5ms/step - loss: 0.5384 - accuracy: 0.7383\n",
      "Epoch 17/50\n",
      "804/804 [==============================] - 4s 5ms/step - loss: 0.5375 - accuracy: 0.7393\n",
      "Epoch 18/50\n",
      "804/804 [==============================] - 4s 5ms/step - loss: 0.5373 - accuracy: 0.7389\n",
      "Epoch 19/50\n",
      "804/804 [==============================] - 4s 5ms/step - loss: 0.5367 - accuracy: 0.7391\n",
      "Epoch 20/50\n",
      "793/804 [============================>.] - ETA: 0s - loss: 0.5358 - accuracy: 0.7401\n",
      "Epoch 20: saving model to checkpoints_new_v5\\weights.20.hdf5\n",
      "804/804 [==============================] - 4s 5ms/step - loss: 0.5364 - accuracy: 0.7397\n",
      "Epoch 21/50\n",
      "804/804 [==============================] - 4s 5ms/step - loss: 0.5367 - accuracy: 0.7397\n",
      "Epoch 22/50\n",
      "804/804 [==============================] - 4s 5ms/step - loss: 0.5359 - accuracy: 0.7390\n",
      "Epoch 23/50\n",
      "804/804 [==============================] - 4s 5ms/step - loss: 0.5353 - accuracy: 0.7386\n",
      "Epoch 24/50\n",
      "804/804 [==============================] - 4s 5ms/step - loss: 0.5344 - accuracy: 0.7395\n",
      "Epoch 25/50\n",
      "804/804 [==============================] - ETA: 0s - loss: 0.5347 - accuracy: 0.7401\n",
      "Epoch 25: saving model to checkpoints_new_v5\\weights.25.hdf5\n",
      "804/804 [==============================] - 4s 5ms/step - loss: 0.5347 - accuracy: 0.7401\n",
      "Epoch 26/50\n",
      "804/804 [==============================] - 4s 5ms/step - loss: 0.5338 - accuracy: 0.7403\n",
      "Epoch 27/50\n",
      "804/804 [==============================] - 4s 5ms/step - loss: 0.5338 - accuracy: 0.7402\n",
      "Epoch 28/50\n",
      "804/804 [==============================] - 4s 5ms/step - loss: 0.5349 - accuracy: 0.7393\n",
      "Epoch 29/50\n",
      "804/804 [==============================] - 4s 5ms/step - loss: 0.5333 - accuracy: 0.7402\n",
      "Epoch 30/50\n",
      "798/804 [============================>.] - ETA: 0s - loss: 0.5334 - accuracy: 0.7395\n",
      "Epoch 30: saving model to checkpoints_new_v5\\weights.30.hdf5\n",
      "804/804 [==============================] - 4s 5ms/step - loss: 0.5335 - accuracy: 0.7395\n",
      "Epoch 31/50\n",
      "804/804 [==============================] - 4s 5ms/step - loss: 0.5332 - accuracy: 0.7400\n",
      "Epoch 32/50\n",
      "804/804 [==============================] - 4s 5ms/step - loss: 0.5331 - accuracy: 0.7409\n",
      "Epoch 33/50\n",
      "804/804 [==============================] - 4s 5ms/step - loss: 0.5329 - accuracy: 0.7406\n",
      "Epoch 34/50\n",
      "804/804 [==============================] - 4s 5ms/step - loss: 0.5325 - accuracy: 0.7400\n",
      "Epoch 35/50\n",
      "804/804 [==============================] - ETA: 0s - loss: 0.5320 - accuracy: 0.7409\n",
      "Epoch 35: saving model to checkpoints_new_v5\\weights.35.hdf5\n",
      "804/804 [==============================] - 4s 5ms/step - loss: 0.5320 - accuracy: 0.7409\n",
      "Epoch 36/50\n",
      "804/804 [==============================] - 4s 5ms/step - loss: 0.5327 - accuracy: 0.7410\n",
      "Epoch 37/50\n",
      "804/804 [==============================] - 4s 5ms/step - loss: 0.5317 - accuracy: 0.7411\n",
      "Epoch 38/50\n",
      "804/804 [==============================] - 4s 5ms/step - loss: 0.5315 - accuracy: 0.7400\n",
      "Epoch 39/50\n",
      "804/804 [==============================] - 4s 5ms/step - loss: 0.5324 - accuracy: 0.7409\n",
      "Epoch 40/50\n",
      "794/804 [============================>.] - ETA: 0s - loss: 0.5312 - accuracy: 0.7413\n",
      "Epoch 40: saving model to checkpoints_new_v5\\weights.40.hdf5\n",
      "804/804 [==============================] - 4s 5ms/step - loss: 0.5314 - accuracy: 0.7409\n",
      "Epoch 41/50\n",
      "804/804 [==============================] - 4s 5ms/step - loss: 0.5300 - accuracy: 0.7416\n",
      "Epoch 42/50\n",
      "804/804 [==============================] - 4s 5ms/step - loss: 0.5312 - accuracy: 0.7403\n",
      "Epoch 43/50\n",
      "804/804 [==============================] - 4s 6ms/step - loss: 0.5305 - accuracy: 0.7414\n",
      "Epoch 44/50\n",
      "804/804 [==============================] - 4s 6ms/step - loss: 0.5304 - accuracy: 0.7420\n",
      "Epoch 45/50\n",
      "794/804 [============================>.] - ETA: 0s - loss: 0.5297 - accuracy: 0.7417\n",
      "Epoch 45: saving model to checkpoints_new_v5\\weights.45.hdf5\n",
      "804/804 [==============================] - 4s 5ms/step - loss: 0.5296 - accuracy: 0.7417\n",
      "Epoch 46/50\n",
      "804/804 [==============================] - 4s 5ms/step - loss: 0.5300 - accuracy: 0.7420\n",
      "Epoch 47/50\n",
      "804/804 [==============================] - 4s 5ms/step - loss: 0.5302 - accuracy: 0.7413\n",
      "Epoch 48/50\n",
      "804/804 [==============================] - 4s 5ms/step - loss: 0.5294 - accuracy: 0.7419\n",
      "Epoch 49/50\n",
      "804/804 [==============================] - 5s 6ms/step - loss: 0.5294 - accuracy: 0.7416\n",
      "Epoch 50/50\n",
      "799/804 [============================>.] - ETA: 0s - loss: 0.5302 - accuracy: 0.7416\n",
      "Epoch 50: saving model to checkpoints_new_v5\\weights.50.hdf5\n",
      "804/804 [==============================] - 5s 6ms/step - loss: 0.5302 - accuracy: 0.7413\n"
     ]
    }
   ],
   "source": [
    "# Create a callback that saves the model's weights every epoch\n",
    "cp_callback = ModelCheckpoint(\n",
    "    filepath=checkpoint_path,\n",
    "    verbose=1,\n",
    "    save_weights_only=True,\n",
    "    period=5)\n",
    "\n",
    "# Train the model\n",
    "fit_model = nn_new_v5.fit(X_train_scaled,y_train,epochs=50,callbacks=[cp_callback])"
   ]
  },
  {
   "cell_type": "code",
   "execution_count": 31,
   "metadata": {},
   "outputs": [
    {
     "name": "stdout",
     "output_type": "stream",
     "text": [
      "268/268 - 1s - loss: 0.5638 - accuracy: 0.7306 - 675ms/epoch - 3ms/step\n",
      "Loss: 0.5638293623924255, Accuracy: 0.7306122183799744\n"
     ]
    }
   ],
   "source": [
    "# Evaluate the model using the test data\n",
    "model_loss, model_accuracy = nn_new_v5.evaluate(X_test_scaled,y_test,verbose=2)\n",
    "print(f\"Loss: {model_loss}, Accuracy: {model_accuracy}\")"
   ]
  },
  {
   "cell_type": "code",
   "execution_count": 32,
   "metadata": {},
   "outputs": [],
   "source": [
    "# Export the model to HDF5 file\n",
    "nn_new_v5.save(\"trained_application_new_v5.h5\")"
   ]
  },
  {
   "cell_type": "code",
   "execution_count": 33,
   "metadata": {},
   "outputs": [
    {
     "data": {
      "text/plain": [
       "<AxesSubplot:>"
      ]
     },
     "execution_count": 33,
     "metadata": {},
     "output_type": "execute_result"
    },
    {
     "data": {
      "image/png": "[encoded data removed]",
      "text/plain": [
       "<Figure size 432x288 with 1 Axes>"
      ]
     },
     "metadata": {
      "needs_background": "light"
     },
     "output_type": "display_data"
    }
   ],
   "source": [
    "# Create a DataFrame containing training history\n",
    "history_df = pd.DataFrame(fit_model.history, index=range(1,len(fit_model.history[\"loss\"])+1))\n",
    "\n",
    "# Plot the loss\n",
    "history_df.plot(y=\"loss\")"
   ]
  },
  {
   "cell_type": "code",
   "execution_count": 34,
   "metadata": {
    "scrolled": false
   },
   "outputs": [
    {
     "data": {
      "text/plain": [
       "<AxesSubplot:>"
      ]
     },
     "execution_count": 34,
     "metadata": {},
     "output_type": "execute_result"
    },
    {
     "data": {
      "image/png": "[encoded data removed]",
      "text/plain": [
       "<Figure size 432x288 with 1 Axes>"
      ]
     },
     "metadata": {
      "needs_background": "light"
     },
     "output_type": "display_data"
    }
   ],
   "source": [
    "# Plot the accuracy\n",
    "history_df.plot(y=\"accuracy\")"
   ]
  },
  {
   "cell_type": "markdown",
   "metadata": {},
   "source": [
    "## Attempt 3: RMSProp"
   ]
  },
  {
   "cell_type": "code",
   "execution_count": 35,
   "metadata": {},
   "outputs": [
    {
     "name": "stdout",
     "output_type": "stream",
     "text": [
      "Model: \"sequential_7\"\n",
      "_________________________________________________________________\n",
      " Layer (type)                Output Shape              Param #   \n",
      "=================================================================\n",
      " dense_35 (Dense)            (None, 348)               40716     \n",
      "                                                                 \n",
      " dense_36 (Dense)            (None, 232)               80968     \n",
      "                                                                 \n",
      " dense_37 (Dense)            (None, 116)               27028     \n",
      "                                                                 \n",
      " dense_38 (Dense)            (None, 58)                6786      \n",
      "                                                                 \n",
      " dense_39 (Dense)            (None, 1)                 59        \n",
      "                                                                 \n",
      "=================================================================\n",
      "Total params: 155,557\n",
      "Trainable params: 155,557\n",
      "Non-trainable params: 0\n",
      "_________________________________________________________________\n"
     ]
    }
   ],
   "source": [
    "# Define the model - deep neural net, i.e., the number of input features and hidden nodes for each layer.\n",
    "number_input_features = len(X_train[0])\n",
    "hidden_nodes_layer1 = 3*number_input_features\n",
    "hidden_nodes_layer2 = 2*number_input_features\n",
    "hidden_nodes_layer3 = number_input_features\n",
    "hidden_nodes_layer4 = 0.5*number_input_features\n",
    "\n",
    "nn_new_v5 = tf.keras.models.Sequential()\n",
    "\n",
    "# First hidden layer\n",
    "nn_new_v5.add(\n",
    "    tf.keras.layers.Dense(\n",
    "        units=hidden_nodes_layer1, \n",
    "        input_dim=number_input_features, \n",
    "        activation=\"relu\"\n",
    "    )\n",
    ")\n",
    "# Second hidden layer\n",
    "nn_new_v5.add(tf.keras.layers.Dense(\n",
    "    units=hidden_nodes_layer2, \n",
    "    activation=\"relu\"\n",
    "))\n",
    "\n",
    "# Third hidden layer\n",
    "nn_new_v5.add(tf.keras.layers.Dense(\n",
    "    units=hidden_nodes_layer3, \n",
    "    activation=\"relu\"\n",
    "))\n",
    "\n",
    "# Fourth hidden layer\n",
    "nn_new_v5.add(tf.keras.layers.Dense(\n",
    "    units=hidden_nodes_layer4, \n",
    "    activation=\"relu\"\n",
    "))\n",
    "\n",
    "# Output layer\n",
    "nn_new_v5.add(tf.keras.layers.Dense(units=1, activation=\"sigmoid\"))\n",
    "\n",
    "# Check the structure of the model\n",
    "nn_new_v5.summary()"
   ]
  },
  {
   "cell_type": "code",
   "execution_count": 36,
   "metadata": {},
   "outputs": [],
   "source": [
    "# Compile the model\n",
    "nn_new_v5.compile(loss=\"binary_crossentropy\", optimizer=\"RMSprop\", metrics=[\"accuracy\"])"
   ]
  },
  {
   "cell_type": "code",
   "execution_count": 37,
   "metadata": {},
   "outputs": [],
   "source": [
    "# Define the checkpoint path and filenames\n",
    "os.makedirs(\"checkpoints_new_v5/\",exist_ok=True)\n",
    "checkpoint_path = \"checkpoints_new_v5/weights.{epoch:02d}.hdf5\""
   ]
  },
  {
   "cell_type": "code",
   "execution_count": 38,
   "metadata": {},
   "outputs": [
    {
     "name": "stdout",
     "output_type": "stream",
     "text": [
      "WARNING:tensorflow:`period` argument is deprecated. Please use `save_freq` to specify the frequency in number of batches seen.\n",
      "Epoch 1/50\n",
      "804/804 [==============================] - 5s 5ms/step - loss: 0.5714 - accuracy: 0.7234\n",
      "Epoch 2/50\n",
      "804/804 [==============================] - 4s 5ms/step - loss: 0.5613 - accuracy: 0.7295\n",
      "Epoch 3/50\n",
      "804/804 [==============================] - 4s 5ms/step - loss: 0.5596 - accuracy: 0.7300\n",
      "Epoch 4/50\n",
      "804/804 [==============================] - 4s 5ms/step - loss: 0.5588 - accuracy: 0.7315\n",
      "Epoch 5/50\n",
      "802/804 [============================>.] - ETA: 0s - loss: 0.5575 - accuracy: 0.7330\n",
      "Epoch 5: saving model to checkpoints_new_v5\\weights.05.hdf5\n",
      "804/804 [==============================] - 4s 5ms/step - loss: 0.5577 - accuracy: 0.7330\n",
      "Epoch 6/50\n",
      "804/804 [==============================] - 4s 5ms/step - loss: 0.5573 - accuracy: 0.7337\n",
      "Epoch 7/50\n",
      "804/804 [==============================] - 3s 4ms/step - loss: 0.5578 - accuracy: 0.7318\n",
      "Epoch 8/50\n",
      "804/804 [==============================] - 3s 4ms/step - loss: 0.5619 - accuracy: 0.7327\n",
      "Epoch 9/50\n",
      "804/804 [==============================] - 4s 4ms/step - loss: 0.5609 - accuracy: 0.7334\n",
      "Epoch 10/50\n",
      "793/804 [============================>.] - ETA: 0s - loss: 0.5603 - accuracy: 0.7344\n",
      "Epoch 10: saving model to checkpoints_new_v5\\weights.10.hdf5\n",
      "804/804 [==============================] - 4s 5ms/step - loss: 0.5607 - accuracy: 0.7335\n",
      "Epoch 11/50\n",
      "804/804 [==============================] - 3s 4ms/step - loss: 0.5587 - accuracy: 0.7327\n",
      "Epoch 12/50\n",
      "804/804 [==============================] - 3s 4ms/step - loss: 0.5588 - accuracy: 0.7352\n",
      "Epoch 13/50\n",
      "804/804 [==============================] - 3s 4ms/step - loss: 0.5602 - accuracy: 0.7350\n",
      "Epoch 14/50\n",
      "804/804 [==============================] - 3s 4ms/step - loss: 0.5610 - accuracy: 0.7340\n",
      "Epoch 15/50\n",
      "804/804 [==============================] - ETA: 0s - loss: 0.5611 - accuracy: 0.7351\n",
      "Epoch 15: saving model to checkpoints_new_v5\\weights.15.hdf5\n",
      "804/804 [==============================] - 3s 4ms/step - loss: 0.5611 - accuracy: 0.7351\n",
      "Epoch 16/50\n",
      "804/804 [==============================] - 3s 4ms/step - loss: 0.5579 - accuracy: 0.7345\n",
      "Epoch 17/50\n",
      "804/804 [==============================] - 3s 4ms/step - loss: 0.5572 - accuracy: 0.7353\n",
      "Epoch 18/50\n",
      "804/804 [==============================] - 3s 4ms/step - loss: 0.5555 - accuracy: 0.7355\n",
      "Epoch 19/50\n",
      "804/804 [==============================] - 3s 4ms/step - loss: 0.5592 - accuracy: 0.7360\n",
      "Epoch 20/50\n",
      "799/804 [============================>.] - ETA: 0s - loss: 0.5601 - accuracy: 0.7360\n",
      "Epoch 20: saving model to checkpoints_new_v5\\weights.20.hdf5\n",
      "804/804 [==============================] - 3s 4ms/step - loss: 0.5603 - accuracy: 0.7356\n",
      "Epoch 21/50\n",
      "804/804 [==============================] - 3s 4ms/step - loss: 0.5643 - accuracy: 0.7367\n",
      "Epoch 22/50\n",
      "804/804 [==============================] - 3s 4ms/step - loss: 0.5590 - accuracy: 0.7365\n",
      "Epoch 23/50\n",
      "804/804 [==============================] - 3s 4ms/step - loss: 0.5624 - accuracy: 0.7369\n",
      "Epoch 24/50\n",
      "804/804 [==============================] - 3s 4ms/step - loss: 0.5608 - accuracy: 0.7353\n",
      "Epoch 25/50\n",
      "800/804 [============================>.] - ETA: 0s - loss: 0.5592 - accuracy: 0.7364\n",
      "Epoch 25: saving model to checkpoints_new_v5\\weights.25.hdf5\n",
      "804/804 [==============================] - 4s 5ms/step - loss: 0.5596 - accuracy: 0.7360\n",
      "Epoch 26/50\n",
      "804/804 [==============================] - 4s 4ms/step - loss: 0.5590 - accuracy: 0.7361\n",
      "Epoch 27/50\n",
      "804/804 [==============================] - 3s 4ms/step - loss: 0.5638 - accuracy: 0.7362\n",
      "Epoch 28/50\n",
      "804/804 [==============================] - 3s 4ms/step - loss: 0.5603 - accuracy: 0.7376\n",
      "Epoch 29/50\n",
      "804/804 [==============================] - 3s 4ms/step - loss: 0.5638 - accuracy: 0.7352\n",
      "Epoch 30/50\n",
      "800/804 [============================>.] - ETA: 0s - loss: 0.5606 - accuracy: 0.7353\n",
      "Epoch 30: saving model to checkpoints_new_v5\\weights.30.hdf5\n",
      "804/804 [==============================] - 3s 4ms/step - loss: 0.5604 - accuracy: 0.7352\n",
      "Epoch 31/50\n",
      "804/804 [==============================] - 3s 4ms/step - loss: 0.5634 - accuracy: 0.7365\n",
      "Epoch 32/50\n",
      "804/804 [==============================] - 3s 4ms/step - loss: 0.5627 - accuracy: 0.7354\n",
      "Epoch 33/50\n",
      "804/804 [==============================] - 3s 4ms/step - loss: 0.5626 - accuracy: 0.7358\n",
      "Epoch 34/50\n",
      "804/804 [==============================] - 3s 4ms/step - loss: 0.5611 - accuracy: 0.7353\n",
      "Epoch 35/50\n",
      "790/804 [============================>.] - ETA: 0s - loss: 0.5719 - accuracy: 0.7348\n",
      "Epoch 35: saving model to checkpoints_new_v5\\weights.35.hdf5\n",
      "804/804 [==============================] - 3s 4ms/step - loss: 0.5725 - accuracy: 0.7343\n",
      "Epoch 36/50\n",
      "804/804 [==============================] - 3s 4ms/step - loss: 0.5662 - accuracy: 0.7344\n",
      "Epoch 37/50\n",
      "804/804 [==============================] - 3s 4ms/step - loss: 0.5706 - accuracy: 0.7353\n",
      "Epoch 38/50\n",
      "804/804 [==============================] - 3s 4ms/step - loss: 0.5668 - accuracy: 0.7353\n",
      "Epoch 39/50\n",
      "804/804 [==============================] - 3s 4ms/step - loss: 0.5731 - accuracy: 0.7322\n",
      "Epoch 40/50\n",
      "797/804 [============================>.] - ETA: 0s - loss: 0.5716 - accuracy: 0.7342\n",
      "Epoch 40: saving model to checkpoints_new_v5\\weights.40.hdf5\n",
      "804/804 [==============================] - 3s 4ms/step - loss: 0.5714 - accuracy: 0.7343\n",
      "Epoch 41/50\n",
      "804/804 [==============================] - 3s 4ms/step - loss: 0.5663 - accuracy: 0.7332\n",
      "Epoch 42/50\n",
      "804/804 [==============================] - 3s 4ms/step - loss: 0.5682 - accuracy: 0.7338\n",
      "Epoch 43/50\n",
      "804/804 [==============================] - 3s 4ms/step - loss: 0.5692 - accuracy: 0.7341\n",
      "Epoch 44/50\n",
      "804/804 [==============================] - 3s 4ms/step - loss: 0.5709 - accuracy: 0.7333\n",
      "Epoch 45/50\n",
      "798/804 [============================>.] - ETA: 0s - loss: 0.5678 - accuracy: 0.7334\n",
      "Epoch 45: saving model to checkpoints_new_v5\\weights.45.hdf5\n",
      "804/804 [==============================] - 3s 4ms/step - loss: 0.5680 - accuracy: 0.7335\n",
      "Epoch 46/50\n",
      "804/804 [==============================] - 3s 4ms/step - loss: 0.5672 - accuracy: 0.7328\n",
      "Epoch 47/50\n",
      "804/804 [==============================] - 3s 4ms/step - loss: 0.5710 - accuracy: 0.7305\n",
      "Epoch 48/50\n",
      "804/804 [==============================] - 3s 4ms/step - loss: 0.5739 - accuracy: 0.7321\n",
      "Epoch 49/50\n",
      "804/804 [==============================] - 3s 4ms/step - loss: 0.5776 - accuracy: 0.7318\n",
      "Epoch 50/50\n",
      "802/804 [============================>.] - ETA: 0s - loss: 0.5777 - accuracy: 0.7308\n",
      "Epoch 50: saving model to checkpoints_new_v5\\weights.50.hdf5\n",
      "804/804 [==============================] - 3s 4ms/step - loss: 0.5778 - accuracy: 0.7306\n"
     ]
    }
   ],
   "source": [
    "# Create a callback that saves the model's weights every epoch\n",
    "cp_callback = ModelCheckpoint(\n",
    "    filepath=checkpoint_path,\n",
    "    verbose=1,\n",
    "    save_weights_only=True,\n",
    "    period=5)\n",
    "\n",
    "# Train the model\n",
    "fit_model = nn_new_v5.fit(X_train_scaled,y_train,epochs=50,callbacks=[cp_callback])"
   ]
  },
  {
   "cell_type": "code",
   "execution_count": 39,
   "metadata": {},
   "outputs": [
    {
     "name": "stdout",
     "output_type": "stream",
     "text": [
      "268/268 - 1s - loss: 0.5769 - accuracy: 0.7238 - 586ms/epoch - 2ms/step\n",
      "Loss: 0.5768629312515259, Accuracy: 0.7238484025001526\n"
     ]
    }
   ],
   "source": [
    "# Evaluate the model using the test data\n",
    "model_loss, model_accuracy = nn_new_v5.evaluate(X_test_scaled,y_test,verbose=2)\n",
    "print(f\"Loss: {model_loss}, Accuracy: {model_accuracy}\")"
   ]
  },
  {
   "cell_type": "code",
   "execution_count": 40,
   "metadata": {},
   "outputs": [],
   "source": [
    "# Export the model to HDF5 file\n",
    "nn_new_v5.save(\"trained_application_new_v5.h5\")"
   ]
  },
  {
   "cell_type": "code",
   "execution_count": 41,
   "metadata": {},
   "outputs": [
    {
     "data": {
      "text/plain": [
       "<AxesSubplot:>"
      ]
     },
     "execution_count": 41,
     "metadata": {},
     "output_type": "execute_result"
    },
    {
     "data": {
      "image/png": "[encoded data removed]",
      "text/plain": [
       "<Figure size 432x288 with 1 Axes>"
      ]
     },
     "metadata": {
      "needs_background": "light"
     },
     "output_type": "display_data"
    }
   ],
   "source": [
    "# Create a DataFrame containing training history\n",
    "history_df = pd.DataFrame(fit_model.history, index=range(1,len(fit_model.history[\"loss\"])+1))\n",
    "\n",
    "# Plot the loss\n",
    "history_df.plot(y=\"loss\")"
   ]
  },
  {
   "cell_type": "code",
   "execution_count": 42,
   "metadata": {
    "scrolled": true
   },
   "outputs": [
    {
     "data": {
      "text/plain": [
       "<AxesSubplot:>"
      ]
     },
     "execution_count": 42,
     "metadata": {},
     "output_type": "execute_result"
    },
    {
     "data": {
      "image/png": "[encoded data removed]",
      "text/plain": [
       "<Figure size 432x288 with 1 Axes>"
      ]
     },
     "metadata": {
      "needs_background": "light"
     },
     "output_type": "display_data"
    }
   ],
   "source": [
    "# Plot the accuracy\n",
    "history_df.plot(y=\"accuracy\")"
   ]
  },
  {
   "cell_type": "markdown",
   "metadata": {},
   "source": [
    "## Attempt 4: SGD"
   ]
  },
  {
   "cell_type": "code",
   "execution_count": 43,
   "metadata": {},
   "outputs": [
    {
     "name": "stdout",
     "output_type": "stream",
     "text": [
      "Model: \"sequential_8\"\n",
      "_________________________________________________________________\n",
      " Layer (type)                Output Shape              Param #   \n",
      "=================================================================\n",
      " dense_40 (Dense)            (None, 348)               40716     \n",
      "                                                                 \n",
      " dense_41 (Dense)            (None, 232)               80968     \n",
      "                                                                 \n",
      " dense_42 (Dense)            (None, 116)               27028     \n",
      "                                                                 \n",
      " dense_43 (Dense)            (None, 58)                6786      \n",
      "                                                                 \n",
      " dense_44 (Dense)            (None, 1)                 59        \n",
      "                                                                 \n",
      "=================================================================\n",
      "Total params: 155,557\n",
      "Trainable params: 155,557\n",
      "Non-trainable params: 0\n",
      "_________________________________________________________________\n"
     ]
    }
   ],
   "source": [
    "# Define the model - deep neural net, i.e., the number of input features and hidden nodes for each layer.\n",
    "number_input_features = len(X_train[0])\n",
    "hidden_nodes_layer1 = 3*number_input_features\n",
    "hidden_nodes_layer2 = 2*number_input_features\n",
    "hidden_nodes_layer3 = number_input_features\n",
    "hidden_nodes_layer4 = 0.5*number_input_features\n",
    "\n",
    "nn_new_v5 = tf.keras.models.Sequential()\n",
    "\n",
    "# First hidden layer\n",
    "nn_new_v5.add(\n",
    "    tf.keras.layers.Dense(\n",
    "        units=hidden_nodes_layer1, \n",
    "        input_dim=number_input_features, \n",
    "        activation=\"relu\"\n",
    "    )\n",
    ")\n",
    "# Second hidden layer\n",
    "nn_new_v5.add(tf.keras.layers.Dense(\n",
    "    units=hidden_nodes_layer2, \n",
    "    activation=\"relu\"\n",
    "))\n",
    "\n",
    "# Third hidden layer\n",
    "nn_new_v5.add(tf.keras.layers.Dense(\n",
    "    units=hidden_nodes_layer3, \n",
    "    activation=\"relu\"\n",
    "))\n",
    "\n",
    "# Fourth hidden layer\n",
    "nn_new_v5.add(tf.keras.layers.Dense(\n",
    "    units=hidden_nodes_layer4, \n",
    "    activation=\"relu\"\n",
    "))\n",
    "\n",
    "# Output layer\n",
    "nn_new_v5.add(tf.keras.layers.Dense(units=1, activation=\"sigmoid\"))\n",
    "\n",
    "# Check the structure of the model\n",
    "nn_new_v5.summary()"
   ]
  },
  {
   "cell_type": "code",
   "execution_count": 44,
   "metadata": {},
   "outputs": [],
   "source": [
    "# Compile the model\n",
    "nn_new_v5.compile(loss=\"binary_crossentropy\", optimizer=\"SGD\", metrics=[\"accuracy\"])"
   ]
  },
  {
   "cell_type": "code",
   "execution_count": 45,
   "metadata": {},
   "outputs": [],
   "source": [
    "# Define the checkpoint path and filenames\n",
    "os.makedirs(\"checkpoints_new_v5/\",exist_ok=True)\n",
    "checkpoint_path = \"checkpoints_new_v5/weights.{epoch:02d}.hdf5\""
   ]
  },
  {
   "cell_type": "code",
   "execution_count": 46,
   "metadata": {},
   "outputs": [
    {
     "name": "stdout",
     "output_type": "stream",
     "text": [
      "WARNING:tensorflow:`period` argument is deprecated. Please use `save_freq` to specify the frequency in number of batches seen.\n",
      "Epoch 1/50\n",
      "804/804 [==============================] - 3s 3ms/step - loss: 0.6101 - accuracy: 0.7019\n",
      "Epoch 2/50\n",
      "804/804 [==============================] - 3s 3ms/step - loss: 0.5598 - accuracy: 0.7296\n",
      "Epoch 3/50\n",
      "804/804 [==============================] - 3s 3ms/step - loss: 0.5525 - accuracy: 0.7310\n",
      "Epoch 4/50\n",
      "804/804 [==============================] - 3s 3ms/step - loss: 0.5495 - accuracy: 0.7332\n",
      "Epoch 5/50\n",
      "800/804 [============================>.] - ETA: 0s - loss: 0.5478 - accuracy: 0.7311\n",
      "Epoch 5: saving model to checkpoints_new_v5\\weights.05.hdf5\n",
      "804/804 [==============================] - 3s 3ms/step - loss: 0.5477 - accuracy: 0.7311\n",
      "Epoch 6/50\n",
      "804/804 [==============================] - 3s 3ms/step - loss: 0.5462 - accuracy: 0.7318\n",
      "Epoch 7/50\n",
      "804/804 [==============================] - 3s 3ms/step - loss: 0.5451 - accuracy: 0.7330\n",
      "Epoch 8/50\n",
      "804/804 [==============================] - 3s 3ms/step - loss: 0.5435 - accuracy: 0.7336\n",
      "Epoch 9/50\n",
      "804/804 [==============================] - 3s 3ms/step - loss: 0.5435 - accuracy: 0.7345\n",
      "Epoch 10/50\n",
      "793/804 [============================>.] - ETA: 0s - loss: 0.5419 - accuracy: 0.7355\n",
      "Epoch 10: saving model to checkpoints_new_v5\\weights.10.hdf5\n",
      "804/804 [==============================] - 3s 4ms/step - loss: 0.5426 - accuracy: 0.7348\n",
      "Epoch 11/50\n",
      "804/804 [==============================] - 3s 3ms/step - loss: 0.5417 - accuracy: 0.7353\n",
      "Epoch 12/50\n",
      "804/804 [==============================] - 3s 3ms/step - loss: 0.5414 - accuracy: 0.7349\n",
      "Epoch 13/50\n",
      "804/804 [==============================] - 3s 3ms/step - loss: 0.5412 - accuracy: 0.7354\n",
      "Epoch 14/50\n",
      "804/804 [==============================] - 3s 3ms/step - loss: 0.5398 - accuracy: 0.7347\n",
      "Epoch 15/50\n",
      "799/804 [============================>.] - ETA: 0s - loss: 0.5404 - accuracy: 0.7364\n",
      "Epoch 15: saving model to checkpoints_new_v5\\weights.15.hdf5\n",
      "804/804 [==============================] - 3s 3ms/step - loss: 0.5401 - accuracy: 0.7367\n",
      "Epoch 16/50\n",
      "804/804 [==============================] - 3s 3ms/step - loss: 0.5396 - accuracy: 0.7364\n",
      "Epoch 17/50\n",
      "804/804 [==============================] - 3s 3ms/step - loss: 0.5391 - accuracy: 0.7364\n",
      "Epoch 18/50\n",
      "804/804 [==============================] - 3s 3ms/step - loss: 0.5385 - accuracy: 0.7363\n",
      "Epoch 19/50\n",
      "804/804 [==============================] - 3s 3ms/step - loss: 0.5389 - accuracy: 0.7375\n",
      "Epoch 20/50\n",
      "796/804 [============================>.] - ETA: 0s - loss: 0.5384 - accuracy: 0.7372\n",
      "Epoch 20: saving model to checkpoints_new_v5\\weights.20.hdf5\n",
      "804/804 [==============================] - 3s 3ms/step - loss: 0.5382 - accuracy: 0.7372\n",
      "Epoch 21/50\n",
      "804/804 [==============================] - 3s 3ms/step - loss: 0.5377 - accuracy: 0.7382\n",
      "Epoch 22/50\n",
      "804/804 [==============================] - 3s 3ms/step - loss: 0.5377 - accuracy: 0.7376\n",
      "Epoch 23/50\n",
      "804/804 [==============================] - 3s 3ms/step - loss: 0.5375 - accuracy: 0.7373\n",
      "Epoch 24/50\n",
      "804/804 [==============================] - 3s 3ms/step - loss: 0.5371 - accuracy: 0.7376\n",
      "Epoch 25/50\n",
      "794/804 [============================>.] - ETA: 0s - loss: 0.5366 - accuracy: 0.7389\n",
      "Epoch 25: saving model to checkpoints_new_v5\\weights.25.hdf5\n",
      "804/804 [==============================] - 3s 3ms/step - loss: 0.5369 - accuracy: 0.7386\n",
      "Epoch 26/50\n",
      "804/804 [==============================] - 3s 3ms/step - loss: 0.5364 - accuracy: 0.7379\n",
      "Epoch 27/50\n",
      "804/804 [==============================] - 3s 3ms/step - loss: 0.5363 - accuracy: 0.7382\n",
      "Epoch 28/50\n",
      "804/804 [==============================] - 3s 4ms/step - loss: 0.5364 - accuracy: 0.7382\n",
      "Epoch 29/50\n",
      "804/804 [==============================] - 3s 4ms/step - loss: 0.5360 - accuracy: 0.7381\n",
      "Epoch 30/50\n",
      "796/804 [============================>.] - ETA: 0s - loss: 0.5357 - accuracy: 0.7393\n",
      "Epoch 30: saving model to checkpoints_new_v5\\weights.30.hdf5\n",
      "804/804 [==============================] - 3s 3ms/step - loss: 0.5357 - accuracy: 0.7392\n",
      "Epoch 31/50\n",
      "804/804 [==============================] - 3s 3ms/step - loss: 0.5359 - accuracy: 0.7394\n",
      "Epoch 32/50\n",
      "804/804 [==============================] - 2s 3ms/step - loss: 0.5355 - accuracy: 0.7386\n",
      "Epoch 33/50\n",
      "804/804 [==============================] - 2s 3ms/step - loss: 0.5353 - accuracy: 0.7393\n",
      "Epoch 34/50\n",
      "804/804 [==============================] - 2s 3ms/step - loss: 0.5356 - accuracy: 0.7384\n",
      "Epoch 35/50\n",
      "790/804 [============================>.] - ETA: 0s - loss: 0.5352 - accuracy: 0.7394\n",
      "Epoch 35: saving model to checkpoints_new_v5\\weights.35.hdf5\n",
      "804/804 [==============================] - 3s 3ms/step - loss: 0.5353 - accuracy: 0.7393\n",
      "Epoch 36/50\n",
      "804/804 [==============================] - 2s 3ms/step - loss: 0.5345 - accuracy: 0.7404\n",
      "Epoch 37/50\n",
      "804/804 [==============================] - 2s 3ms/step - loss: 0.5345 - accuracy: 0.7393\n",
      "Epoch 38/50\n",
      "804/804 [==============================] - 3s 4ms/step - loss: 0.5342 - accuracy: 0.7393\n",
      "Epoch 39/50\n",
      "804/804 [==============================] - 3s 4ms/step - loss: 0.5347 - accuracy: 0.7393\n",
      "Epoch 40/50\n",
      "794/804 [============================>.] - ETA: 0s - loss: 0.5342 - accuracy: 0.7404\n",
      "Epoch 40: saving model to checkpoints_new_v5\\weights.40.hdf5\n",
      "804/804 [==============================] - 3s 4ms/step - loss: 0.5343 - accuracy: 0.7404\n",
      "Epoch 41/50\n",
      "804/804 [==============================] - 3s 3ms/step - loss: 0.5338 - accuracy: 0.7390\n",
      "Epoch 42/50\n",
      "804/804 [==============================] - 3s 3ms/step - loss: 0.5344 - accuracy: 0.7404\n",
      "Epoch 43/50\n",
      "804/804 [==============================] - 4s 4ms/step - loss: 0.5340 - accuracy: 0.7396\n",
      "Epoch 44/50\n",
      "804/804 [==============================] - 3s 4ms/step - loss: 0.5338 - accuracy: 0.7396\n",
      "Epoch 45/50\n",
      "801/804 [============================>.] - ETA: 0s - loss: 0.5336 - accuracy: 0.7395\n",
      "Epoch 45: saving model to checkpoints_new_v5\\weights.45.hdf5\n",
      "804/804 [==============================] - 3s 4ms/step - loss: 0.5336 - accuracy: 0.7396\n",
      "Epoch 46/50\n",
      "804/804 [==============================] - 3s 4ms/step - loss: 0.5335 - accuracy: 0.7398\n",
      "Epoch 47/50\n",
      "804/804 [==============================] - 3s 3ms/step - loss: 0.5333 - accuracy: 0.7410\n",
      "Epoch 48/50\n",
      "804/804 [==============================] - 3s 3ms/step - loss: 0.5334 - accuracy: 0.7403\n",
      "Epoch 49/50\n",
      "804/804 [==============================] - 3s 3ms/step - loss: 0.5329 - accuracy: 0.7400\n",
      "Epoch 50/50\n",
      "787/804 [============================>.] - ETA: 0s - loss: 0.5343 - accuracy: 0.7392\n",
      "Epoch 50: saving model to checkpoints_new_v5\\weights.50.hdf5\n",
      "804/804 [==============================] - 3s 3ms/step - loss: 0.5332 - accuracy: 0.7401\n"
     ]
    }
   ],
   "source": [
    "# Create a callback that saves the model's weights every epoch\n",
    "cp_callback = ModelCheckpoint(\n",
    "    filepath=checkpoint_path,\n",
    "    verbose=1,\n",
    "    save_weights_only=True,\n",
    "    period=5)\n",
    "\n",
    "# Train the model\n",
    "fit_model = nn_new_v5.fit(X_train_scaled,y_train,epochs=50,callbacks=[cp_callback])"
   ]
  },
  {
   "cell_type": "code",
   "execution_count": 47,
   "metadata": {},
   "outputs": [
    {
     "name": "stdout",
     "output_type": "stream",
     "text": [
      "268/268 - 1s - loss: 0.5526 - accuracy: 0.7318 - 681ms/epoch - 3ms/step\n",
      "Loss: 0.5526438355445862, Accuracy: 0.7317784428596497\n"
     ]
    }
   ],
   "source": [
    "# Evaluate the model using the test data\n",
    "model_loss, model_accuracy = nn_new_v5.evaluate(X_test_scaled,y_test,verbose=2)\n",
    "print(f\"Loss: {model_loss}, Accuracy: {model_accuracy}\")"
   ]
  },
  {
   "cell_type": "code",
   "execution_count": 48,
   "metadata": {},
   "outputs": [],
   "source": [
    "# Export the model to HDF5 file\n",
    "nn_new_v5.save(\"trained_application_new_v5.h5\")"
   ]
  },
  {
   "cell_type": "code",
   "execution_count": 49,
   "metadata": {},
   "outputs": [
    {
     "data": {
      "text/plain": [
       "<AxesSubplot:>"
      ]
     },
     "execution_count": 49,
     "metadata": {},
     "output_type": "execute_result"
    },
    {
     "data": {
      "image/png": "[encoded data removed]",
      "text/plain": [
       "<Figure size 432x288 with 1 Axes>"
      ]
     },
     "metadata": {
      "needs_background": "light"
     },
     "output_type": "display_data"
    }
   ],
   "source": [
    "# Create a DataFrame containing training history\n",
    "history_df = pd.DataFrame(fit_model.history, index=range(1,len(fit_model.history[\"loss\"])+1))\n",
    "\n",
    "# Plot the loss\n",
    "history_df.plot(y=\"loss\")"
   ]
  },
  {
   "cell_type": "code",
   "execution_count": 50,
   "metadata": {
    "scrolled": true
   },
   "outputs": [
    {
     "data": {
      "text/plain": [
       "<AxesSubplot:>"
      ]
     },
     "execution_count": 50,
     "metadata": {},
     "output_type": "execute_result"
    },
    {
     "data": {
      "image/png": "[encoded data removed]",
      "text/plain": [
       "<Figure size 432x288 with 1 Axes>"
      ]
     },
     "metadata": {
      "needs_background": "light"
     },
     "output_type": "display_data"
    }
   ],
   "source": [
    "# Plot the accuracy\n",
    "history_df.plot(y=\"accuracy\")"
   ]
  },
  {
   "cell_type": "markdown",
   "metadata": {},
   "source": [
    "## Attempt 5: adagrad"
   ]
  },
  {
   "cell_type": "code",
   "execution_count": 51,
   "metadata": {},
   "outputs": [
    {
     "name": "stdout",
     "output_type": "stream",
     "text": [
      "Model: \"sequential_9\"\n",
      "_________________________________________________________________\n",
      " Layer (type)                Output Shape              Param #   \n",
      "=================================================================\n",
      " dense_45 (Dense)            (None, 348)               40716     \n",
      "                                                                 \n",
      " dense_46 (Dense)            (None, 232)               80968     \n",
      "                                                                 \n",
      " dense_47 (Dense)            (None, 116)               27028     \n",
      "                                                                 \n",
      " dense_48 (Dense)            (None, 58)                6786      \n",
      "                                                                 \n",
      " dense_49 (Dense)            (None, 1)                 59        \n",
      "                                                                 \n",
      "=================================================================\n",
      "Total params: 155,557\n",
      "Trainable params: 155,557\n",
      "Non-trainable params: 0\n",
      "_________________________________________________________________\n"
     ]
    }
   ],
   "source": [
    "# Define the model - deep neural net, i.e., the number of input features and hidden nodes for each layer.\n",
    "number_input_features = len(X_train[0])\n",
    "hidden_nodes_layer1 = 3*number_input_features\n",
    "hidden_nodes_layer2 = 2*number_input_features\n",
    "hidden_nodes_layer3 = number_input_features\n",
    "hidden_nodes_layer4 = 0.5*number_input_features\n",
    "\n",
    "nn_new_v5 = tf.keras.models.Sequential()\n",
    "\n",
    "# First hidden layer\n",
    "nn_new_v5.add(\n",
    "    tf.keras.layers.Dense(\n",
    "        units=hidden_nodes_layer1, \n",
    "        input_dim=number_input_features, \n",
    "        activation=\"relu\"\n",
    "    )\n",
    ")\n",
    "# Second hidden layer\n",
    "nn_new_v5.add(tf.keras.layers.Dense(\n",
    "    units=hidden_nodes_layer2, \n",
    "    activation=\"relu\"\n",
    "))\n",
    "\n",
    "# Third hidden layer\n",
    "nn_new_v5.add(tf.keras.layers.Dense(\n",
    "    units=hidden_nodes_layer3, \n",
    "    activation=\"relu\"\n",
    "))\n",
    "\n",
    "# Fourth hidden layer\n",
    "nn_new_v5.add(tf.keras.layers.Dense(\n",
    "    units=hidden_nodes_layer4, \n",
    "    activation=\"relu\"\n",
    "))\n",
    "\n",
    "# Output layer\n",
    "nn_new_v5.add(tf.keras.layers.Dense(units=1, activation=\"sigmoid\"))\n",
    "\n",
    "# Check the structure of the model\n",
    "nn_new_v5.summary()"
   ]
  },
  {
   "cell_type": "code",
   "execution_count": 52,
   "metadata": {},
   "outputs": [],
   "source": [
    "# Compile the model\n",
    "nn_new_v5.compile(loss=\"binary_crossentropy\", optimizer=\"Adagrad\", metrics=[\"accuracy\"])"
   ]
  },
  {
   "cell_type": "code",
   "execution_count": 53,
   "metadata": {},
   "outputs": [],
   "source": [
    "# Define the checkpoint path and filenames\n",
    "os.makedirs(\"checkpoints_new_v5/\",exist_ok=True)\n",
    "checkpoint_path = \"checkpoints_new_v5/weights.{epoch:02d}.hdf5\""
   ]
  },
  {
   "cell_type": "code",
   "execution_count": 54,
   "metadata": {},
   "outputs": [
    {
     "name": "stdout",
     "output_type": "stream",
     "text": [
      "WARNING:tensorflow:`period` argument is deprecated. Please use `save_freq` to specify the frequency in number of batches seen.\n",
      "Epoch 1/50\n",
      "804/804 [==============================] - 3s 3ms/step - loss: 0.6479 - accuracy: 0.6635\n",
      "Epoch 2/50\n",
      "804/804 [==============================] - 3s 3ms/step - loss: 0.5913 - accuracy: 0.7175\n",
      "Epoch 3/50\n",
      "804/804 [==============================] - 3s 3ms/step - loss: 0.5702 - accuracy: 0.7223\n",
      "Epoch 4/50\n",
      "804/804 [==============================] - 3s 3ms/step - loss: 0.5622 - accuracy: 0.7260\n",
      "Epoch 5/50\n",
      "798/804 [============================>.] - ETA: 0s - loss: 0.5582 - accuracy: 0.7285\n",
      "Epoch 5: saving model to checkpoints_new_v5\\weights.05.hdf5\n",
      "804/804 [==============================] - 3s 4ms/step - loss: 0.5581 - accuracy: 0.7285\n",
      "Epoch 6/50\n",
      "804/804 [==============================] - 3s 3ms/step - loss: 0.5553 - accuracy: 0.7295\n",
      "Epoch 7/50\n",
      "804/804 [==============================] - 3s 3ms/step - loss: 0.5533 - accuracy: 0.7298\n",
      "Epoch 8/50\n",
      "804/804 [==============================] - 3s 3ms/step - loss: 0.5518 - accuracy: 0.7310\n",
      "Epoch 9/50\n",
      "804/804 [==============================] - 3s 3ms/step - loss: 0.5506 - accuracy: 0.7320\n",
      "Epoch 10/50\n",
      "800/804 [============================>.] - ETA: 0s - loss: 0.5499 - accuracy: 0.7317\n",
      "Epoch 10: saving model to checkpoints_new_v5\\weights.10.hdf5\n",
      "804/804 [==============================] - 3s 3ms/step - loss: 0.5495 - accuracy: 0.7320\n",
      "Epoch 11/50\n",
      "804/804 [==============================] - 3s 3ms/step - loss: 0.5487 - accuracy: 0.7327\n",
      "Epoch 12/50\n",
      "804/804 [==============================] - 3s 3ms/step - loss: 0.5479 - accuracy: 0.7322\n",
      "Epoch 13/50\n",
      "804/804 [==============================] - 3s 4ms/step - loss: 0.5473 - accuracy: 0.7329\n",
      "Epoch 14/50\n",
      "804/804 [==============================] - 3s 4ms/step - loss: 0.5467 - accuracy: 0.7334\n",
      "Epoch 15/50\n",
      "796/804 [============================>.] - ETA: 0s - loss: 0.5456 - accuracy: 0.7337\n",
      "Epoch 15: saving model to checkpoints_new_v5\\weights.15.hdf5\n",
      "804/804 [==============================] - 3s 4ms/step - loss: 0.5460 - accuracy: 0.7335\n",
      "Epoch 16/50\n",
      "804/804 [==============================] - 3s 3ms/step - loss: 0.5455 - accuracy: 0.7339\n",
      "Epoch 17/50\n",
      "804/804 [==============================] - 3s 3ms/step - loss: 0.5452 - accuracy: 0.7334\n",
      "Epoch 18/50\n",
      "804/804 [==============================] - 3s 3ms/step - loss: 0.5447 - accuracy: 0.7342\n",
      "Epoch 19/50\n",
      "804/804 [==============================] - 3s 3ms/step - loss: 0.5443 - accuracy: 0.7343\n",
      "Epoch 20/50\n",
      "791/804 [============================>.] - ETA: 0s - loss: 0.5440 - accuracy: 0.7345\n",
      "Epoch 20: saving model to checkpoints_new_v5\\weights.20.hdf5\n",
      "804/804 [==============================] - 3s 3ms/step - loss: 0.5440 - accuracy: 0.7346\n",
      "Epoch 21/50\n",
      "804/804 [==============================] - 3s 3ms/step - loss: 0.5436 - accuracy: 0.7348\n",
      "Epoch 22/50\n",
      "804/804 [==============================] - 3s 3ms/step - loss: 0.5433 - accuracy: 0.7348\n",
      "Epoch 23/50\n",
      "804/804 [==============================] - 3s 3ms/step - loss: 0.5431 - accuracy: 0.7352\n",
      "Epoch 24/50\n",
      "804/804 [==============================] - 3s 3ms/step - loss: 0.5428 - accuracy: 0.7347\n",
      "Epoch 25/50\n",
      "803/804 [============================>.] - ETA: 0s - loss: 0.5426 - accuracy: 0.7350\n",
      "Epoch 25: saving model to checkpoints_new_v5\\weights.25.hdf5\n",
      "804/804 [==============================] - 3s 4ms/step - loss: 0.5425 - accuracy: 0.7350\n",
      "Epoch 26/50\n",
      "804/804 [==============================] - 3s 3ms/step - loss: 0.5423 - accuracy: 0.7351\n",
      "Epoch 27/50\n",
      "804/804 [==============================] - 3s 3ms/step - loss: 0.5420 - accuracy: 0.7354\n",
      "Epoch 28/50\n",
      "804/804 [==============================] - 3s 3ms/step - loss: 0.5418 - accuracy: 0.7352\n",
      "Epoch 29/50\n",
      "804/804 [==============================] - 3s 3ms/step - loss: 0.5416 - accuracy: 0.7351\n",
      "Epoch 30/50\n",
      "788/804 [============================>.] - ETA: 0s - loss: 0.5416 - accuracy: 0.7350\n",
      "Epoch 30: saving model to checkpoints_new_v5\\weights.30.hdf5\n",
      "804/804 [==============================] - 3s 3ms/step - loss: 0.5413 - accuracy: 0.7351\n",
      "Epoch 31/50\n",
      "804/804 [==============================] - 3s 3ms/step - loss: 0.5411 - accuracy: 0.7355\n",
      "Epoch 32/50\n",
      "804/804 [==============================] - 3s 3ms/step - loss: 0.5409 - accuracy: 0.7355\n",
      "Epoch 33/50\n",
      "804/804 [==============================] - 3s 3ms/step - loss: 0.5406 - accuracy: 0.7353\n",
      "Epoch 34/50\n",
      "804/804 [==============================] - 3s 3ms/step - loss: 0.5406 - accuracy: 0.7358\n",
      "Epoch 35/50\n",
      "802/804 [============================>.] - ETA: 0s - loss: 0.5400 - accuracy: 0.7355\n",
      "Epoch 35: saving model to checkpoints_new_v5\\weights.35.hdf5\n",
      "804/804 [==============================] - 3s 3ms/step - loss: 0.5404 - accuracy: 0.7354\n",
      "Epoch 36/50\n",
      "804/804 [==============================] - 3s 3ms/step - loss: 0.5402 - accuracy: 0.7355\n",
      "Epoch 37/50\n",
      "804/804 [==============================] - 3s 3ms/step - loss: 0.5401 - accuracy: 0.7355\n",
      "Epoch 38/50\n",
      "804/804 [==============================] - 3s 3ms/step - loss: 0.5399 - accuracy: 0.7356\n",
      "Epoch 39/50\n",
      "804/804 [==============================] - 3s 3ms/step - loss: 0.5398 - accuracy: 0.7359\n",
      "Epoch 40/50\n",
      "795/804 [============================>.] - ETA: 0s - loss: 0.5395 - accuracy: 0.7361\n",
      "Epoch 40: saving model to checkpoints_new_v5\\weights.40.hdf5\n",
      "804/804 [==============================] - 3s 3ms/step - loss: 0.5396 - accuracy: 0.7360\n",
      "Epoch 41/50\n",
      "804/804 [==============================] - 3s 3ms/step - loss: 0.5395 - accuracy: 0.7355\n",
      "Epoch 42/50\n",
      "804/804 [==============================] - 3s 3ms/step - loss: 0.5392 - accuracy: 0.7369\n",
      "Epoch 43/50\n",
      "804/804 [==============================] - 3s 3ms/step - loss: 0.5392 - accuracy: 0.7360\n",
      "Epoch 44/50\n",
      "804/804 [==============================] - 3s 3ms/step - loss: 0.5391 - accuracy: 0.7364\n",
      "Epoch 45/50\n",
      "800/804 [============================>.] - ETA: 0s - loss: 0.5388 - accuracy: 0.7367\n",
      "Epoch 45: saving model to checkpoints_new_v5\\weights.45.hdf5\n",
      "804/804 [==============================] - 3s 3ms/step - loss: 0.5389 - accuracy: 0.7365\n",
      "Epoch 46/50\n",
      "804/804 [==============================] - 3s 3ms/step - loss: 0.5388 - accuracy: 0.7370\n",
      "Epoch 47/50\n",
      "804/804 [==============================] - 3s 3ms/step - loss: 0.5387 - accuracy: 0.7367\n",
      "Epoch 48/50\n",
      "804/804 [==============================] - 3s 3ms/step - loss: 0.5385 - accuracy: 0.7367\n",
      "Epoch 49/50\n",
      "804/804 [==============================] - 3s 3ms/step - loss: 0.5384 - accuracy: 0.7367\n",
      "Epoch 50/50\n",
      "795/804 [============================>.] - ETA: 0s - loss: 0.5381 - accuracy: 0.7373\n",
      "Epoch 50: saving model to checkpoints_new_v5\\weights.50.hdf5\n",
      "804/804 [==============================] - 3s 3ms/step - loss: 0.5383 - accuracy: 0.7372\n"
     ]
    }
   ],
   "source": [
    "# Create a callback that saves the model's weights every epoch\n",
    "cp_callback = ModelCheckpoint(\n",
    "    filepath=checkpoint_path,\n",
    "    verbose=1,\n",
    "    save_weights_only=True,\n",
    "    period=5)\n",
    "\n",
    "# Train the model\n",
    "fit_model = nn_new_v5.fit(X_train_scaled,y_train,epochs=50,callbacks=[cp_callback])"
   ]
  },
  {
   "cell_type": "code",
   "execution_count": 55,
   "metadata": {},
   "outputs": [
    {
     "name": "stdout",
     "output_type": "stream",
     "text": [
      "268/268 - 1s - loss: 0.5518 - accuracy: 0.7328 - 608ms/epoch - 2ms/step\n",
      "Loss: 0.5517957806587219, Accuracy: 0.7328279614448547\n"
     ]
    }
   ],
   "source": [
    "# Evaluate the model using the test data\n",
    "model_loss, model_accuracy = nn_new_v5.evaluate(X_test_scaled,y_test,verbose=2)\n",
    "print(f\"Loss: {model_loss}, Accuracy: {model_accuracy}\")"
   ]
  },
  {
   "cell_type": "code",
   "execution_count": 56,
   "metadata": {},
   "outputs": [],
   "source": [
    "# Export the model to HDF5 file\n",
    "nn_new_v5.save(\"trained_application_new_v5.h5\")"
   ]
  },
  {
   "cell_type": "code",
   "execution_count": 57,
   "metadata": {},
   "outputs": [
    {
     "data": {
      "text/plain": [
       "<AxesSubplot:>"
      ]
     },
     "execution_count": 57,
     "metadata": {},
     "output_type": "execute_result"
    },
    {
     "data": {
      "image/png": "[encoded data removed]",
      "text/plain": [
       "<Figure size 432x288 with 1 Axes>"
      ]
     },
     "metadata": {
      "needs_background": "light"
     },
     "output_type": "display_data"
    }
   ],
   "source": [
    "# Create a DataFrame containing training history\n",
    "history_df = pd.DataFrame(fit_model.history, index=range(1,len(fit_model.history[\"loss\"])+1))\n",
    "\n",
    "# Plot the loss\n",
    "history_df.plot(y=\"loss\")"
   ]
  },
  {
   "cell_type": "code",
   "execution_count": 58,
   "metadata": {
    "scrolled": true
   },
   "outputs": [
    {
     "data": {
      "text/plain": [
       "<AxesSubplot:>"
      ]
     },
     "execution_count": 58,
     "metadata": {},
     "output_type": "execute_result"
    },
    {
     "data": {
      "image/png": "[encoded data removed]",
      "text/plain": [
       "<Figure size 432x288 with 1 Axes>"
      ]
     },
     "metadata": {
      "needs_background": "light"
     },
     "output_type": "display_data"
    }
   ],
   "source": [
    "# Plot the accuracy\n",
    "history_df.plot(y=\"accuracy\")"
   ]
  },
  {
   "cell_type": "markdown",
   "metadata": {},
   "source": [
    "## Attempt 6: Adadelta"
   ]
  },
  {
   "cell_type": "code",
   "execution_count": 59,
   "metadata": {},
   "outputs": [
    {
     "name": "stdout",
     "output_type": "stream",
     "text": [
      "Model: \"sequential_10\"\n",
      "_________________________________________________________________\n",
      " Layer (type)                Output Shape              Param #   \n",
      "=================================================================\n",
      " dense_50 (Dense)            (None, 348)               40716     \n",
      "                                                                 \n",
      " dense_51 (Dense)            (None, 232)               80968     \n",
      "                                                                 \n",
      " dense_52 (Dense)            (None, 116)               27028     \n",
      "                                                                 \n",
      " dense_53 (Dense)            (None, 58)                6786      \n",
      "                                                                 \n",
      " dense_54 (Dense)            (None, 1)                 59        \n",
      "                                                                 \n",
      "=================================================================\n",
      "Total params: 155,557\n",
      "Trainable params: 155,557\n",
      "Non-trainable params: 0\n",
      "_________________________________________________________________\n"
     ]
    }
   ],
   "source": [
    "# Define the model - deep neural net, i.e., the number of input features and hidden nodes for each layer.\n",
    "number_input_features = len(X_train[0])\n",
    "hidden_nodes_layer1 = 3*number_input_features\n",
    "hidden_nodes_layer2 = 2*number_input_features\n",
    "hidden_nodes_layer3 = number_input_features\n",
    "hidden_nodes_layer4 = 0.5*number_input_features\n",
    "\n",
    "nn_new_v5 = tf.keras.models.Sequential()\n",
    "\n",
    "# First hidden layer\n",
    "nn_new_v5.add(\n",
    "    tf.keras.layers.Dense(\n",
    "        units=hidden_nodes_layer1, \n",
    "        input_dim=number_input_features, \n",
    "        activation=\"relu\"\n",
    "    )\n",
    ")\n",
    "# Second hidden layer\n",
    "nn_new_v5.add(tf.keras.layers.Dense(\n",
    "    units=hidden_nodes_layer2, \n",
    "    activation=\"relu\"\n",
    "))\n",
    "\n",
    "# Third hidden layer\n",
    "nn_new_v5.add(tf.keras.layers.Dense(\n",
    "    units=hidden_nodes_layer3, \n",
    "    activation=\"relu\"\n",
    "))\n",
    "\n",
    "# Fourth hidden layer\n",
    "nn_new_v5.add(tf.keras.layers.Dense(\n",
    "    units=hidden_nodes_layer4, \n",
    "    activation=\"relu\"\n",
    "))\n",
    "\n",
    "# Output layer\n",
    "nn_new_v5.add(tf.keras.layers.Dense(units=1, activation=\"sigmoid\"))\n",
    "\n",
    "# Check the structure of the model\n",
    "nn_new_v5.summary()"
   ]
  },
  {
   "cell_type": "code",
   "execution_count": 60,
   "metadata": {},
   "outputs": [],
   "source": [
    "# Compile the model\n",
    "nn_new_v5.compile(loss=\"binary_crossentropy\", optimizer=\"Adadelta\", metrics=[\"accuracy\"])"
   ]
  },
  {
   "cell_type": "code",
   "execution_count": 61,
   "metadata": {},
   "outputs": [],
   "source": [
    "# Define the checkpoint path and filenames\n",
    "os.makedirs(\"checkpoints_new_v5/\",exist_ok=True)\n",
    "checkpoint_path = \"checkpoints_new_v5/weights.{epoch:02d}.hdf5\""
   ]
  },
  {
   "cell_type": "code",
   "execution_count": 62,
   "metadata": {},
   "outputs": [
    {
     "name": "stdout",
     "output_type": "stream",
     "text": [
      "WARNING:tensorflow:`period` argument is deprecated. Please use `save_freq` to specify the frequency in number of batches seen.\n",
      "Epoch 1/50\n",
      "804/804 [==============================] - 4s 4ms/step - loss: 0.6943 - accuracy: 0.5040\n",
      "Epoch 2/50\n",
      "804/804 [==============================] - 3s 4ms/step - loss: 0.6833 - accuracy: 0.5534\n",
      "Epoch 3/50\n",
      "804/804 [==============================] - 3s 3ms/step - loss: 0.6738 - accuracy: 0.6092\n",
      "Epoch 4/50\n",
      "804/804 [==============================] - 3s 4ms/step - loss: 0.6661 - accuracy: 0.6583\n",
      "Epoch 5/50\n",
      "796/804 [============================>.] - ETA: 0s - loss: 0.6591 - accuracy: 0.6832\n",
      "Epoch 5: saving model to checkpoints_new_v5\\weights.05.hdf5\n",
      "804/804 [==============================] - 3s 4ms/step - loss: 0.6592 - accuracy: 0.6829\n",
      "Epoch 6/50\n",
      "804/804 [==============================] - 3s 4ms/step - loss: 0.6530 - accuracy: 0.6904\n",
      "Epoch 7/50\n",
      "804/804 [==============================] - 3s 4ms/step - loss: 0.6473 - accuracy: 0.6966\n",
      "Epoch 8/50\n",
      "804/804 [==============================] - 3s 4ms/step - loss: 0.6420 - accuracy: 0.6979\n",
      "Epoch 9/50\n",
      "804/804 [==============================] - 3s 4ms/step - loss: 0.6370 - accuracy: 0.7022\n",
      "Epoch 10/50\n",
      "796/804 [============================>.] - ETA: 0s - loss: 0.6325 - accuracy: 0.7063\n",
      "Epoch 10: saving model to checkpoints_new_v5\\weights.10.hdf5\n",
      "804/804 [==============================] - 3s 4ms/step - loss: 0.6323 - accuracy: 0.7070\n",
      "Epoch 11/50\n",
      "804/804 [==============================] - 4s 5ms/step - loss: 0.6278 - accuracy: 0.7096\n",
      "Epoch 12/50\n",
      "804/804 [==============================] - 4s 5ms/step - loss: 0.6235 - accuracy: 0.7092\n",
      "Epoch 13/50\n",
      "804/804 [==============================] - 4s 5ms/step - loss: 0.6193 - accuracy: 0.7097\n",
      "Epoch 14/50\n",
      "804/804 [==============================] - 3s 4ms/step - loss: 0.6152 - accuracy: 0.7111\n",
      "Epoch 15/50\n",
      "798/804 [============================>.] - ETA: 0s - loss: 0.6114 - accuracy: 0.7115\n",
      "Epoch 15: saving model to checkpoints_new_v5\\weights.15.hdf5\n",
      "804/804 [==============================] - 3s 4ms/step - loss: 0.6115 - accuracy: 0.7112\n",
      "Epoch 16/50\n",
      "804/804 [==============================] - 3s 4ms/step - loss: 0.6079 - accuracy: 0.7115\n",
      "Epoch 17/50\n",
      "804/804 [==============================] - 3s 4ms/step - loss: 0.6046 - accuracy: 0.7119\n",
      "Epoch 18/50\n",
      "804/804 [==============================] - 3s 4ms/step - loss: 0.6015 - accuracy: 0.7142\n",
      "Epoch 19/50\n",
      "804/804 [==============================] - 3s 4ms/step - loss: 0.5985 - accuracy: 0.7144\n",
      "Epoch 20/50\n",
      "793/804 [============================>.] - ETA: 0s - loss: 0.5960 - accuracy: 0.7145\n",
      "Epoch 20: saving model to checkpoints_new_v5\\weights.20.hdf5\n",
      "804/804 [==============================] - 3s 4ms/step - loss: 0.5958 - accuracy: 0.7147\n",
      "Epoch 21/50\n",
      "804/804 [==============================] - 3s 4ms/step - loss: 0.5932 - accuracy: 0.7185\n",
      "Epoch 22/50\n",
      "804/804 [==============================] - 3s 4ms/step - loss: 0.5908 - accuracy: 0.7187\n",
      "Epoch 23/50\n",
      "804/804 [==============================] - 3s 4ms/step - loss: 0.5886 - accuracy: 0.7215\n",
      "Epoch 24/50\n",
      "804/804 [==============================] - 3s 4ms/step - loss: 0.5865 - accuracy: 0.7222\n",
      "Epoch 25/50\n",
      "799/804 [============================>.] - ETA: 0s - loss: 0.5848 - accuracy: 0.7217\n",
      "Epoch 25: saving model to checkpoints_new_v5\\weights.25.hdf5\n",
      "804/804 [==============================] - 3s 4ms/step - loss: 0.5845 - accuracy: 0.7221\n",
      "Epoch 26/50\n",
      "804/804 [==============================] - 3s 4ms/step - loss: 0.5826 - accuracy: 0.7225\n",
      "Epoch 27/50\n",
      "804/804 [==============================] - 3s 4ms/step - loss: 0.5809 - accuracy: 0.7226\n",
      "Epoch 28/50\n",
      "804/804 [==============================] - 3s 4ms/step - loss: 0.5793 - accuracy: 0.7234\n",
      "Epoch 29/50\n",
      "804/804 [==============================] - 3s 4ms/step - loss: 0.5778 - accuracy: 0.7243\n",
      "Epoch 30/50\n",
      "798/804 [============================>.] - ETA: 0s - loss: 0.5764 - accuracy: 0.7245\n",
      "Epoch 30: saving model to checkpoints_new_v5\\weights.30.hdf5\n",
      "804/804 [==============================] - 3s 4ms/step - loss: 0.5763 - accuracy: 0.7245\n",
      "Epoch 31/50\n",
      "804/804 [==============================] - 3s 4ms/step - loss: 0.5750 - accuracy: 0.7248\n",
      "Epoch 32/50\n",
      "804/804 [==============================] - 3s 4ms/step - loss: 0.5738 - accuracy: 0.7250\n",
      "Epoch 33/50\n",
      "804/804 [==============================] - 3s 4ms/step - loss: 0.5727 - accuracy: 0.7252\n",
      "Epoch 34/50\n",
      "804/804 [==============================] - 3s 4ms/step - loss: 0.5716 - accuracy: 0.7256\n",
      "Epoch 35/50\n",
      "802/804 [============================>.] - ETA: 0s - loss: 0.5706 - accuracy: 0.7270\n",
      "Epoch 35: saving model to checkpoints_new_v5\\weights.35.hdf5\n",
      "804/804 [==============================] - 3s 4ms/step - loss: 0.5706 - accuracy: 0.7271\n",
      "Epoch 36/50\n",
      "804/804 [==============================] - 3s 4ms/step - loss: 0.5697 - accuracy: 0.7278\n",
      "Epoch 37/50\n",
      "804/804 [==============================] - 3s 4ms/step - loss: 0.5688 - accuracy: 0.7280\n",
      "Epoch 38/50\n",
      "804/804 [==============================] - 3s 4ms/step - loss: 0.5679 - accuracy: 0.7279\n",
      "Epoch 39/50\n",
      "804/804 [==============================] - 3s 4ms/step - loss: 0.5672 - accuracy: 0.7280\n",
      "Epoch 40/50\n",
      "794/804 [============================>.] - ETA: 0s - loss: 0.5661 - accuracy: 0.7277\n",
      "Epoch 40: saving model to checkpoints_new_v5\\weights.40.hdf5\n",
      "804/804 [==============================] - 4s 4ms/step - loss: 0.5664 - accuracy: 0.7277\n",
      "Epoch 41/50\n",
      "804/804 [==============================] - 4s 5ms/step - loss: 0.5657 - accuracy: 0.7279\n",
      "Epoch 42/50\n",
      "804/804 [==============================] - 3s 4ms/step - loss: 0.5651 - accuracy: 0.7280\n",
      "Epoch 43/50\n",
      "804/804 [==============================] - 4s 5ms/step - loss: 0.5645 - accuracy: 0.7280\n",
      "Epoch 44/50\n",
      "804/804 [==============================] - 4s 5ms/step - loss: 0.5639 - accuracy: 0.7280\n",
      "Epoch 45/50\n",
      "803/804 [============================>.] - ETA: 0s - loss: 0.5633 - accuracy: 0.7281\n",
      "Epoch 45: saving model to checkpoints_new_v5\\weights.45.hdf5\n",
      "804/804 [==============================] - 4s 4ms/step - loss: 0.5633 - accuracy: 0.7280\n",
      "Epoch 46/50\n",
      "804/804 [==============================] - 4s 5ms/step - loss: 0.5628 - accuracy: 0.7281\n",
      "Epoch 47/50\n",
      "804/804 [==============================] - 4s 5ms/step - loss: 0.5623 - accuracy: 0.7281\n",
      "Epoch 48/50\n",
      "804/804 [==============================] - 4s 5ms/step - loss: 0.5619 - accuracy: 0.7280\n",
      "Epoch 49/50\n",
      "804/804 [==============================] - 4s 4ms/step - loss: 0.5614 - accuracy: 0.7282\n",
      "Epoch 50/50\n",
      "794/804 [============================>.] - ETA: 0s - loss: 0.5607 - accuracy: 0.7282\n",
      "Epoch 50: saving model to checkpoints_new_v5\\weights.50.hdf5\n",
      "804/804 [==============================] - 4s 5ms/step - loss: 0.5610 - accuracy: 0.7282\n"
     ]
    }
   ],
   "source": [
    "# Create a callback that saves the model's weights every epoch\n",
    "cp_callback = ModelCheckpoint(\n",
    "    filepath=checkpoint_path,\n",
    "    verbose=1,\n",
    "    save_weights_only=True,\n",
    "    period=5)\n",
    "\n",
    "# Train the model\n",
    "fit_model = nn_new_v5.fit(X_train_scaled,y_train,epochs=50,callbacks=[cp_callback])"
   ]
  },
  {
   "cell_type": "code",
   "execution_count": 63,
   "metadata": {},
   "outputs": [
    {
     "name": "stdout",
     "output_type": "stream",
     "text": [
      "268/268 - 1s - loss: 0.5646 - accuracy: 0.7289 - 660ms/epoch - 2ms/step\n",
      "Loss: 0.5645993947982788, Accuracy: 0.728863000869751\n"
     ]
    }
   ],
   "source": [
    "# Evaluate the model using the test data\n",
    "model_loss, model_accuracy = nn_new_v5.evaluate(X_test_scaled,y_test,verbose=2)\n",
    "print(f\"Loss: {model_loss}, Accuracy: {model_accuracy}\")"
   ]
  },
  {
   "cell_type": "code",
   "execution_count": 64,
   "metadata": {},
   "outputs": [],
   "source": [
    "# Export the model to HDF5 file\n",
    "nn_new_v5.save(\"trained_application_new_v5.h5\")"
   ]
  },
  {
   "cell_type": "code",
   "execution_count": 65,
   "metadata": {},
   "outputs": [
    {
     "data": {
      "text/plain": [
       "<AxesSubplot:>"
      ]
     },
     "execution_count": 65,
     "metadata": {},
     "output_type": "execute_result"
    },
    {
     "data": {
      "image/png": "[encoded data removed]",
      "text/plain": [
       "<Figure size 432x288 with 1 Axes>"
      ]
     },
     "metadata": {
      "needs_background": "light"
     },
     "output_type": "display_data"
    }
   ],
   "source": [
    "# Create a DataFrame containing training history\n",
    "history_df = pd.DataFrame(fit_model.history, index=range(1,len(fit_model.history[\"loss\"])+1))\n",
    "\n",
    "# Plot the loss\n",
    "history_df.plot(y=\"loss\")"
   ]
  },
  {
   "cell_type": "code",
   "execution_count": 66,
   "metadata": {
    "scrolled": true
   },
   "outputs": [
    {
     "data": {
      "text/plain": [
       "<AxesSubplot:>"
      ]
     },
     "execution_count": 66,
     "metadata": {},
     "output_type": "execute_result"
    },
    {
     "data": {
      "image/png": "[encoded data removed]",
      "text/plain": [
       "<Figure size 432x288 with 1 Axes>"
      ]
     },
     "metadata": {
      "needs_background": "light"
     },
     "output_type": "display_data"
    }
   ],
   "source": [
    "# Plot the accuracy\n",
    "history_df.plot(y=\"accuracy\")"
   ]
  }
 ],
 "metadata": {
  "kernelspec": {
   "display_name": "mlenv",
   "language": "python",
   "name": "mlenv"
  },
  "language_info": {
   "codemirror_mode": {
    "name": "ipython",
    "version": 3
   },
   "file_extension": ".py",
   "mimetype": "text/x-python",
   "name": "python",
   "nbconvert_exporter": "python",
   "pygments_lexer": "ipython3",
   "version": "3.9.12"
  }
 },
 "nbformat": 4,
 "nbformat_minor": 2
}
